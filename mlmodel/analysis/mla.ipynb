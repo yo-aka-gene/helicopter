{
 "cells": [
  {
   "cell_type": "code",
   "execution_count": null,
   "id": "ac839847-e26a-4dc0-9825-d2cc0a543a8c",
   "metadata": {},
   "outputs": [],
   "source": [
    "import os\n",
    "from typing import Dict, NamedTuple, Union, List\n",
    "from itertools import combinations\n",
    "\n",
    "import numpy as np\n",
    "import pandas as pd\n",
    "import matplotlib.pyplot as plt\n",
    "import seaborn as sns\n",
    "\n",
    "from sklearn.linear_model import LinearRegression\n",
    "from sklearn.metrics import mean_squared_error\n",
    "from sklearn.model_selection import GroupKFold"
   ]
  },
  {
   "cell_type": "code",
   "execution_count": 2,
   "id": "0ae4fcac-04b9-4bc4-8632-76a92d322c56",
   "metadata": {},
   "outputs": [],
   "source": [
    "class Config(NamedTuple):\n",
    "    data_1: str = \"../pre_vertical.csv\"\n",
    "    data_2: str = \"../2way_anova_portrait.csv\"\n",
    "    dirctory: str = \"../images/mla\"\n",
    "    savefile: bool = False\n",
    "    kwarg_savefig: Dict[str, Union[str, int, float]] = {\n",
    "        \"facecolor\": \"white\",\n",
    "        \"dpi\": 300,\n",
    "        \"bbox_inches\": \"tight\",\n",
    "        \"pad_inches\": 0.05\n",
    "    }"
   ]
  },
  {
   "cell_type": "code",
   "execution_count": 3,
   "id": "df3eae39-9f9f-4865-8214-e274acf43137",
   "metadata": {},
   "outputs": [],
   "source": [
    "def power(\n",
    "    data: pd.core.frame.DataFrame, \n",
    "    dim: int,\n",
    "    subtract_scale: bool = True,\n",
    "    name_digit: int = 3\n",
    "    ) -> pd.core.frame.DataFrame:\n",
    "\n",
    "    assert isinstance(dim, int) and dim >= 1, \\\n",
    "        f\"dim expected non-zero positive int; got {dim}\"\n",
    "    assert isinstance(name_digit, int) and name_digit >= 0, \\\n",
    "        f\"name_digit expected positive int; got {name_digit}\"\n",
    "\n",
    "    ret = data.copy()\n",
    "\n",
    "    for i in range(dim - 1):\n",
    "        temp = data ** (i + 2) if not subtract_scale \\\n",
    "            else (data - data.mean()) ** (i + 2)\n",
    "        if subtract_scale:\n",
    "            temp.columns = [\n",
    "                f\"({name}-{data.mean()[j].round(name_digit)})\" + \\\n",
    "                    (f\"*({name}-{data.mean()[j].round(name_digit)})\" * (i + 1)) for j, name in enumerate(temp.columns)\n",
    "                ]\n",
    "        else:\n",
    "            temp.columns = [\n",
    "                f\"{name}\" + (f\"*{name}\" * (i + 1)) for name in temp.columns\n",
    "                ]\n",
    "        ret = pd.concat([ret, temp], axis=1)\n",
    "    \n",
    "    return ret\n",
    "\n",
    "def feat_selector(data: pd.core.frame.DataFrame) -> List[pd.core.frame.DataFrame]:\n",
    "    ret = []\n",
    "    for i in range(len(data)):\n",
    "        l_comb = list(combinations(data.columns, i + 1))\n",
    "        ret += [data.loc[:, list(comb)] for comb in l_comb]\n",
    "    return ret"
   ]
  },
  {
   "cell_type": "code",
   "execution_count": 4,
   "id": "d06eff08-9f98-47c6-8f61-de3a22755091",
   "metadata": {},
   "outputs": [],
   "source": [
    "conf = Config(savefile=True)"
   ]
  },
  {
   "cell_type": "code",
   "execution_count": 5,
   "id": "c9ef9104-ceb0-4f6d-91ec-317c0f5bd790",
   "metadata": {},
   "outputs": [],
   "source": [
    "os.makedirs(conf.dirctory, exist_ok=True)"
   ]
  },
  {
   "cell_type": "code",
   "execution_count": 6,
   "id": "ee4c0977-0cc2-447b-aa1a-5e29ac8b3a3f",
   "metadata": {},
   "outputs": [],
   "source": [
    "data_1 = pd.read_csv(conf.data_1, index_col=0)\n",
    "data_2 = pd.read_csv(conf.data_2, index_col=0)"
   ]
  },
  {
   "cell_type": "code",
   "execution_count": 7,
   "id": "5855d6d3-5a2e-4a4e-9242-834b7250e49c",
   "metadata": {},
   "outputs": [
    {
     "data": {
      "text/html": [
       "<div>\n",
       "<style scoped>\n",
       "    .dataframe tbody tr th:only-of-type {\n",
       "        vertical-align: middle;\n",
       "    }\n",
       "\n",
       "    .dataframe tbody tr th {\n",
       "        vertical-align: top;\n",
       "    }\n",
       "\n",
       "    .dataframe thead th {\n",
       "        text-align: right;\n",
       "    }\n",
       "</style>\n",
       "<table border=\"1\" class=\"dataframe\">\n",
       "  <thead>\n",
       "    <tr style=\"text-align: right;\">\n",
       "      <th></th>\n",
       "      <th>time</th>\n",
       "      <th>body_size</th>\n",
       "      <th>group</th>\n",
       "    </tr>\n",
       "  </thead>\n",
       "  <tbody>\n",
       "    <tr>\n",
       "      <th>day1_1</th>\n",
       "      <td>5.13</td>\n",
       "      <td>2.00</td>\n",
       "      <td>1.0</td>\n",
       "    </tr>\n",
       "    <tr>\n",
       "      <th>day1_2</th>\n",
       "      <td>6.55</td>\n",
       "      <td>2.50</td>\n",
       "      <td>1.0</td>\n",
       "    </tr>\n",
       "    <tr>\n",
       "      <th>day1_3</th>\n",
       "      <td>5.36</td>\n",
       "      <td>2.97</td>\n",
       "      <td>1.0</td>\n",
       "    </tr>\n",
       "    <tr>\n",
       "      <th>day1_4</th>\n",
       "      <td>5.81</td>\n",
       "      <td>2.00</td>\n",
       "      <td>1.0</td>\n",
       "    </tr>\n",
       "    <tr>\n",
       "      <th>day1_5</th>\n",
       "      <td>4.81</td>\n",
       "      <td>2.50</td>\n",
       "      <td>1.0</td>\n",
       "    </tr>\n",
       "  </tbody>\n",
       "</table>\n",
       "</div>"
      ],
      "text/plain": [
       "        time  body_size  group\n",
       "day1_1  5.13       2.00    1.0\n",
       "day1_2  6.55       2.50    1.0\n",
       "day1_3  5.36       2.97    1.0\n",
       "day1_4  5.81       2.00    1.0\n",
       "day1_5  4.81       2.50    1.0"
      ]
     },
     "execution_count": 7,
     "metadata": {},
     "output_type": "execute_result"
    }
   ],
   "source": [
    "df_1 = data_1[data_1.iloc[:, 1] >= 2]\n",
    "df_1.index = [f\"day1_{i+1}\" for i in range(len(df_1))]\n",
    "df_1.columns = [\"time\", \"body_size\"]\n",
    "df_1 = df_1.assign(\n",
    "    group = pd.Series(np.ones(len(df_1)), index=df_1.index)\n",
    ")\n",
    "df_1.head()"
   ]
  },
  {
   "cell_type": "code",
   "execution_count": 8,
   "id": "cd1f09f3-31e1-42a4-80d6-34d1f57223a6",
   "metadata": {},
   "outputs": [
    {
     "data": {
      "text/html": [
       "<div>\n",
       "<style scoped>\n",
       "    .dataframe tbody tr th:only-of-type {\n",
       "        vertical-align: middle;\n",
       "    }\n",
       "\n",
       "    .dataframe tbody tr th {\n",
       "        vertical-align: top;\n",
       "    }\n",
       "\n",
       "    .dataframe thead th {\n",
       "        text-align: right;\n",
       "    }\n",
       "</style>\n",
       "<table border=\"1\" class=\"dataframe\">\n",
       "  <thead>\n",
       "    <tr style=\"text-align: right;\">\n",
       "      <th></th>\n",
       "      <th>time</th>\n",
       "      <th>body_size</th>\n",
       "      <th>group</th>\n",
       "    </tr>\n",
       "  </thead>\n",
       "  <tbody>\n",
       "    <tr>\n",
       "      <th>day2_1</th>\n",
       "      <td>5.94</td>\n",
       "      <td>2.00</td>\n",
       "      <td>2.0</td>\n",
       "    </tr>\n",
       "    <tr>\n",
       "      <th>day2_2</th>\n",
       "      <td>5.75</td>\n",
       "      <td>2.50</td>\n",
       "      <td>2.0</td>\n",
       "    </tr>\n",
       "    <tr>\n",
       "      <th>day2_3</th>\n",
       "      <td>5.65</td>\n",
       "      <td>2.97</td>\n",
       "      <td>2.0</td>\n",
       "    </tr>\n",
       "    <tr>\n",
       "      <th>day2_4</th>\n",
       "      <td>5.44</td>\n",
       "      <td>2.00</td>\n",
       "      <td>2.0</td>\n",
       "    </tr>\n",
       "    <tr>\n",
       "      <th>day2_5</th>\n",
       "      <td>5.41</td>\n",
       "      <td>2.50</td>\n",
       "      <td>2.0</td>\n",
       "    </tr>\n",
       "  </tbody>\n",
       "</table>\n",
       "</div>"
      ],
      "text/plain": [
       "        time  body_size  group\n",
       "day2_1  5.94       2.00    2.0\n",
       "day2_2  5.75       2.50    2.0\n",
       "day2_3  5.65       2.97    2.0\n",
       "day2_4  5.44       2.00    2.0\n",
       "day2_5  5.41       2.50    2.0"
      ]
     },
     "execution_count": 8,
     "metadata": {},
     "output_type": "execute_result"
    }
   ],
   "source": [
    "df_2 = data_2[data_2.n_clip == 0].iloc[:, :-1]\n",
    "df_2.index = [f\"day2_{i+1}\" for i in range(len(df_2))]\n",
    "df_2.columns = [\"time\", \"body_size\"]\n",
    "df_2 = df_2.assign(\n",
    "    group = 2 * pd.Series(np.ones(len(df_2)), index=df_2.index)\n",
    ")\n",
    "df_2.head()"
   ]
  },
  {
   "cell_type": "code",
   "execution_count": 9,
   "id": "fc3afa82-340c-4e74-85bc-38ca421c78ff",
   "metadata": {},
   "outputs": [],
   "source": [
    "df = pd.concat([df_1, df_2], axis=0)"
   ]
  },
  {
   "cell_type": "code",
   "execution_count": 10,
   "id": "beed9687-e2c8-44f0-acab-fc1db3da3f9c",
   "metadata": {},
   "outputs": [
    {
     "data": {
      "text/html": [
       "<div>\n",
       "<style scoped>\n",
       "    .dataframe tbody tr th:only-of-type {\n",
       "        vertical-align: middle;\n",
       "    }\n",
       "\n",
       "    .dataframe tbody tr th {\n",
       "        vertical-align: top;\n",
       "    }\n",
       "\n",
       "    .dataframe thead th {\n",
       "        text-align: right;\n",
       "    }\n",
       "</style>\n",
       "<table border=\"1\" class=\"dataframe\">\n",
       "  <thead>\n",
       "    <tr style=\"text-align: right;\">\n",
       "      <th></th>\n",
       "      <th>time</th>\n",
       "      <th>body_size</th>\n",
       "      <th>group</th>\n",
       "    </tr>\n",
       "  </thead>\n",
       "  <tbody>\n",
       "    <tr>\n",
       "      <th>day1_1</th>\n",
       "      <td>5.13</td>\n",
       "      <td>2.00</td>\n",
       "      <td>1.0</td>\n",
       "    </tr>\n",
       "    <tr>\n",
       "      <th>day1_2</th>\n",
       "      <td>6.55</td>\n",
       "      <td>2.50</td>\n",
       "      <td>1.0</td>\n",
       "    </tr>\n",
       "    <tr>\n",
       "      <th>day1_3</th>\n",
       "      <td>5.36</td>\n",
       "      <td>2.97</td>\n",
       "      <td>1.0</td>\n",
       "    </tr>\n",
       "    <tr>\n",
       "      <th>day1_4</th>\n",
       "      <td>5.81</td>\n",
       "      <td>2.00</td>\n",
       "      <td>1.0</td>\n",
       "    </tr>\n",
       "    <tr>\n",
       "      <th>day1_5</th>\n",
       "      <td>4.81</td>\n",
       "      <td>2.50</td>\n",
       "      <td>1.0</td>\n",
       "    </tr>\n",
       "  </tbody>\n",
       "</table>\n",
       "</div>"
      ],
      "text/plain": [
       "        time  body_size  group\n",
       "day1_1  5.13       2.00    1.0\n",
       "day1_2  6.55       2.50    1.0\n",
       "day1_3  5.36       2.97    1.0\n",
       "day1_4  5.81       2.00    1.0\n",
       "day1_5  4.81       2.50    1.0"
      ]
     },
     "execution_count": 10,
     "metadata": {},
     "output_type": "execute_result"
    }
   ],
   "source": [
    "df.head()"
   ]
  },
  {
   "cell_type": "code",
   "execution_count": 11,
   "id": "31bead9b-e86b-4033-ae62-2dec17a48072",
   "metadata": {},
   "outputs": [],
   "source": [
    "groups = df.group\n",
    "n = len(groups.unique())"
   ]
  },
  {
   "cell_type": "code",
   "execution_count": 12,
   "id": "57ab996f-c1e2-45cc-b98d-dd3bc4da41f1",
   "metadata": {},
   "outputs": [],
   "source": [
    "df_sep = feat_selector(power(pd.DataFrame(df.body_size), 3, True, 1))"
   ]
  },
  {
   "cell_type": "code",
   "execution_count": 13,
   "id": "6b5ea518-0ac4-49e0-ad1e-cea88b72574e",
   "metadata": {},
   "outputs": [],
   "source": [
    "class record_data(NamedTuple):\n",
    "    x: pd.core.frame.DataFrame\n",
    "    y: Union[pd.core.series.Series, pd.core.frame.DataFrame]"
   ]
  },
  {
   "cell_type": "markdown",
   "id": "737932c3-5310-4172-bc2c-d174d6e73e5e",
   "metadata": {},
   "source": [
    "---\n",
    "## 学習モデル\u0001"
   ]
  },
  {
   "cell_type": "code",
   "execution_count": 14,
   "id": "91d91fe4-7830-4ba1-a9c0-8c8c1f9f9a87",
   "metadata": {},
   "outputs": [],
   "source": [
    "l_model = [\n",
    "    [\n",
    "        LinearRegression() for i in range(n)\n",
    "    ] for j in range(len(df_sep))\n",
    "]\n",
    "l_train = [[] for j in range(len(df_sep))]\n",
    "l_test = [[] for j in range(len(df_sep))]\n",
    "l_rmse = [[] for j in range(len(df_sep))]\n",
    "\n",
    "iterators = [df_sep, l_model, l_train, l_test, l_rmse]\n",
    "\n",
    "\n",
    "for _df, model, train, test, rmse in zip(*iterators):\n",
    "    arg = [\n",
    "        GroupKFold(n_splits=n).split(_df, df.time, groups),\n",
    "        np.arange(n)\n",
    "    ]\n",
    "    for idx, i in zip(*arg):\n",
    "        data = pd.DataFrame(_df)\n",
    "        x1, y1 = data.iloc[idx[0], :], df.time[idx[0]]\n",
    "        x2, y2 = data.iloc[idx[1], :], df.time[idx[1]]\n",
    "    \n",
    "        model[i].fit(x1, y1)\n",
    "        train += [record_data(x=x1, y=y1)]\n",
    "        test += [record_data(x=x2, y=y2)]\n",
    "        rmse += [np.sqrt(mean_squared_error(y2, model[i].predict(x2)))]"
   ]
  },
  {
   "cell_type": "code",
   "execution_count": 15,
   "id": "24527023-cc31-4b2c-9047-78c1009b7c30",
   "metadata": {},
   "outputs": [],
   "source": [
    "def get_dim(\n",
    "    train: List[record_data],\n",
    "    data: pd.core.frame.DataFrame,\n",
    "    ax = None\n",
    "):\n",
    "    idx = train[0].x.columns\n",
    "    \n",
    "    split_x = lambda l_x: [str(x).split(\"*\") for x in l_x]\n",
    "    unique = lambda l_x: list(set(l_x))\n",
    "    get_var = lambda l_x: l_x[0]\n",
    "    remove_bracket = lambda x: x[1:-1] if \"(\" in x else x\n",
    "    split_minus = lambda l_x: [get_var(remove_bracket(x).split(\"-\")) for x in l_x]\n",
    "    \n",
    "    l_idx = [split_minus(l_x) for l_x in split_x(idx)]\n",
    "    l_unique = unique(sum(l_idx, []))\n",
    "\n",
    "    df_var = data.loc[:, l_unique]\n",
    "\n",
    "    var = {v: [] for v in l_unique}\n",
    "    mean = {v: df_var[v].mean() for v in l_unique}\n",
    "\n",
    "    for i, l_var in enumerate(l_idx):\n",
    "        for var_name in l_unique:\n",
    "            var[var_name] += [l_var.count(var_name)]\n",
    "    \n",
    "    return  var[l_unique[0]] if len(l_unique) == 1 else var"
   ]
  },
  {
   "cell_type": "code",
   "execution_count": 16,
   "id": "ee9efc50-3037-4f58-bcae-c4ecf783e087",
   "metadata": {},
   "outputs": [],
   "source": [
    "def x_pred(\n",
    "    x: np.ndarray,\n",
    "    l_dim: List[int],\n",
    "    mean:float = 0\n",
    ") -> np.ndarray:\n",
    "    x_pred = np.hstack([\n",
    "            np.linspace(\n",
    "                min(x) - mean if dim != 1 else min(x),\n",
    "                max(x) - mean if dim != 1 else max(x),\n",
    "                len(x)\n",
    "            ).reshape(-1, 1) ** dim for dim in l_dim\n",
    "    ])\n",
    "    return x_pred\n",
    "\n",
    "def pretty_idx(\n",
    "    name:str,\n",
    "    l_dim: List[int],\n",
    "    mean: float = 0,\n",
    "    digit: int = 2\n",
    ") -> List[str]:\n",
    "    ret = []\n",
    "    for dim in l_dim:\n",
    "        if mean == 0:\n",
    "            temp = name if dim == 1 else f\"{name}\" + \"$^\" + f\"{dim}$\"\n",
    "        else:\n",
    "            temp = name if dim == 1 \\\n",
    "            else f\"({name}-{round(mean, digit)})^{dim}\"\n",
    "        ret += [temp]\n",
    "    return ret"
   ]
  },
  {
   "cell_type": "markdown",
   "id": "908bb505-1231-44e2-b2f8-0b08d9da1229",
   "metadata": {},
   "source": [
    "---\n",
    "## RMSEが最小となるモデルについて確認"
   ]
  },
  {
   "cell_type": "code",
   "execution_count": 17,
   "id": "a998dc1d-a7cb-4009-9a71-bd85a8fd5bc4",
   "metadata": {},
   "outputs": [],
   "source": [
    "res_rmse = np.array(l_rmse)"
   ]
  },
  {
   "cell_type": "code",
   "execution_count": 18,
   "id": "38e967ec-2ce1-45eb-a1ea-b02fa9b6aaa4",
   "metadata": {},
   "outputs": [
    {
     "data": {
      "image/png": "[encoded data removed]",
      "text/plain": [
       "<Figure size 288x288 with 1 Axes>"
      ]
     },
     "metadata": {
      "needs_background": "light"
     },
     "output_type": "display_data"
    }
   ],
   "source": [
    "fig, ax = plt.subplots(figsize=(4, 4))\n",
    "\n",
    "ax.scatter(\n",
    "    np.arange(len(res_rmse)),\n",
    "    res_rmse[:, 1], label=\"test data (day1)\",\n",
    "    c=\"m\", marker=\"s\", edgecolor=\"k\", alpha=0.5,\n",
    ")\n",
    "\n",
    "ax.scatter(\n",
    "    np.arange(len(res_rmse)),\n",
    "    res_rmse[:, 0], label=\"test data (day2)\",\n",
    "    c=\"c\", marker=\"s\", edgecolor=\"k\", alpha=0.5,\n",
    ")\n",
    "\n",
    "ax.plot(\n",
    "    np.arange(len(res_rmse)),\n",
    "    res_rmse.mean(axis=1), label=\"mean\",\n",
    "    c=\"k\", marker=\"x\"\n",
    ")\n",
    "\n",
    "ax.plot(\n",
    "    np.arange(len(res_rmse)),\n",
    "    res_rmse.mean(axis=1).min() * np.ones_like(res_rmse.mean(axis=1)),\n",
    "    linestyle=\"--\", c=\"r\", \n",
    "    label=f\"minimal rmse ({res_rmse.mean(axis=1).min().round(2)})\"\n",
    ")\n",
    "\n",
    "ax.scatter(\n",
    "    np.argmin(res_rmse.mean(axis=1)),\n",
    "    res_rmse.mean(axis=1).min(),\n",
    "    c=\"r\", marker=\"o\", edgecolor=\"k\", zorder=3, alpha=0.5,\n",
    "    label=\"optimal model\", s=200\n",
    ")\n",
    "\n",
    "ax.set(ylabel=\"rmse\", xlabel=\"index of models\")\n",
    "\n",
    "ax.legend(bbox_to_anchor=(1.05, 0.7));\n",
    "\n",
    "if conf.savefile:\n",
    "    plt.savefig(f\"{conf.dirctory}/rmse.png\", **conf.kwarg_savefig)"
   ]
  },
  {
   "cell_type": "code",
   "execution_count": 19,
   "id": "2a959405-7df6-4a86-bf89-3743aca5a218",
   "metadata": {},
   "outputs": [],
   "source": [
    "num_target = np.argmin(res_rmse.mean(axis=1))\n",
    "l_dim = get_dim(l_train[num_target], df)\n",
    "\n",
    "arg = [\n",
    "    l_model[num_target],\n",
    "    l_test[num_target],\n",
    "    l_rmse[num_target],\n",
    "    np.arange(2)\n",
    "]"
   ]
  },
  {
   "cell_type": "code",
   "execution_count": 20,
   "id": "8b584ad7-4135-444a-ba0b-331ac8b5639f",
   "metadata": {},
   "outputs": [],
   "source": [
    "x_p = np.linspace(2, 2.97, 1000).reshape(-1, 1)\n",
    "x_2d = x_pred(x_p, l_dim, (2+2.5+2.97)/3)\n",
    "new_col = pretty_idx(\"size\", l_dim, (2+2.5+2.97)/3)"
   ]
  },
  {
   "cell_type": "code",
   "execution_count": 21,
   "id": "3da183ea-18b2-4c41-9770-e5871f7d0ec2",
   "metadata": {},
   "outputs": [
    {
     "data": {
      "image/png": "[encoded data removed]",
      "text/plain": [
       "<Figure size 288x576 with 2 Axes>"
      ]
     },
     "metadata": {
      "needs_background": "light"
     },
     "output_type": "display_data"
    }
   ],
   "source": [
    "fig, ax = plt.subplots(2, 1, figsize=(4, 8))\n",
    "plt.subplots_adjust(hspace=0.5)\n",
    "\n",
    "for model, test, rmse, i in zip(*arg):\n",
    "    \n",
    "    ax[i].scatter(\n",
    "        df.body_size[test.x.index], test.y,\n",
    "        c=[\"c\", \"m\"][i], marker=\"s\", edgecolor=\"k\", alpha=0.5,\n",
    "        label=f\"test data (day{2-i})\"\n",
    "    )\n",
    "    title = f\"$y=\" + f\"{model.intercept_.round(2)}\" + \\\n",
    "    \"\".join(\n",
    "        [f\"{model.coef_[idx].round(2)}{name}\" for idx, name in enumerate(new_col)\n",
    "        ]\n",
    "    ) + \"$\\n\" + \"$RMSE=\" + f\"{rmse.round(3)}$\"\n",
    "    ax[i].plot(\n",
    "        x_p, model.predict(x_2d), c=\"k\",\n",
    "        label=f\"prediction (day{i+1})\"\n",
    "    )\n",
    "    \n",
    "    ax[i].set(title=title, ylabel=\"$time$ $[s]$\", xlabel=\"$size$ $[cm]$\")\n",
    "    ax[i].set_ylim([3, 10])\n",
    "    ax[i].legend(bbox_to_anchor=(1.05, 0.7))\n",
    "\n",
    "if conf.savefile:\n",
    "    plt.savefig(f\"{conf.dirctory}/optimal_model.png\", **conf.kwarg_savefig)"
   ]
  },
  {
   "cell_type": "code",
   "execution_count": null,
   "id": "bc98ca22-e37a-4a80-b77a-5db7a7bf721e",
   "metadata": {},
   "outputs": [],
   "source": []
  }
 ],
 "metadata": {
  "kernelspec": {
   "display_name": "Python 3",
   "language": "python",
   "name": "python3"
  },
  "language_info": {
   "codemirror_mode": {
    "name": "ipython",
    "version": 3
   },
   "file_extension": ".py",
   "mimetype": "text/x-python",
   "name": "python",
   "nbconvert_exporter": "python",
   "pygments_lexer": "ipython3",
   "version": "3.8.8"
  }
 },
 "nbformat": 4,
 "nbformat_minor": 5
}
