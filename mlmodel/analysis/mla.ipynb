{
 "cells": [
  {
   "cell_type": "code",
   "execution_count": 82,
   "id": "ac839847-e26a-4dc0-9825-d2cc0a543a8c",
   "metadata": {},
   "outputs": [],
   "source": [
    "import os\n",
    "from typing import Dict, NamedTuple, Union, List\n",
    "from itertools import combinations\n",
    "\n",
    "import numpy as np\n",
    "import pandas as pd\n",
    "import matplotlib.pyplot as plt\n",
    "import seaborn as sns\n",
    "\n",
    "from sklearn.linear_model import LinearRegression\n",
    "from sklearn.metrics import mean_squared_error\n",
    "from sklearn.model_selection import GroupKFold"
   ]
  },
  {
   "cell_type": "code",
   "execution_count": 12,
   "id": "0ae4fcac-04b9-4bc4-8632-76a92d322c56",
   "metadata": {},
   "outputs": [],
   "source": [
    "class Config(NamedTuple):\n",
    "    data_1: str = \"../pre_vertical.csv\"\n",
    "    data_2: str = \"../2way_anova_portrait.csv\"\n",
    "    dirctory: str = \"../images/dataviz\"\n",
    "    savefile: bool = False\n",
    "    kwarg_savefig: Dict[str, Union[str, int, float]] = {\n",
    "        \"facecolor\": \"white\",\n",
    "        \"dpi\": 300,\n",
    "        \"bbox_inches\": \"tight\",\n",
    "        \"pad_inches\": 0.05\n",
    "    }"
   ]
  },
  {
   "cell_type": "code",
   "execution_count": 71,
   "id": "df3eae39-9f9f-4865-8214-e274acf43137",
   "metadata": {},
   "outputs": [],
   "source": [
    "def power(\n",
    "    data: pd.core.frame.DataFrame, \n",
    "    dim: int,\n",
    "    subtract_scale: bool = True,\n",
    "    name_digit: int = 3\n",
    "    ) -> pd.core.frame.DataFrame:\n",
    "\n",
    "    assert isinstance(dim, int) and dim >= 1, \\\n",
    "        f\"dim expected non-zero positive int; got {dim}\"\n",
    "    assert isinstance(name_digit, int) and name_digit >= 0, \\\n",
    "        f\"name_digit expected positive int; got {name_digit}\"\n",
    "\n",
    "    ret = data.copy()\n",
    "\n",
    "    for i in range(dim - 1):\n",
    "        temp = data ** (i + 2) if not subtract_scale \\\n",
    "            else (data - data.mean()) ** (i + 2)\n",
    "        if subtract_scale:\n",
    "            temp.columns = [\n",
    "                f\"({name}-{data.mean()[j].round(name_digit)})\" + \\\n",
    "                    (f\"*({name}-{data.mean()[j].round(name_digit)})\" * (i + 1)) for j, name in enumerate(temp.columns)\n",
    "                ]\n",
    "        else:\n",
    "            temp.columns = [\n",
    "                f\"{name}\" + (f\"*{name}\" * (i + 1)) for name in temp.columns\n",
    "                ]\n",
    "        ret = pd.concat([ret, temp], axis=1)\n",
    "    \n",
    "    return ret\n",
    "\n",
    "def feat_selector(data: pd.core.frame.DataFrame) -> List[pd.core.frame.DataFrame]:\n",
    "    ret = []\n",
    "    for i in range(len(data)):\n",
    "        l_comb = list(combinations(data.columns, i + 1))\n",
    "        ret += [data.loc[:, list(comb)] for comb in l_comb]\n",
    "    return ret"
   ]
  },
  {
   "cell_type": "code",
   "execution_count": 14,
   "id": "d06eff08-9f98-47c6-8f61-de3a22755091",
   "metadata": {},
   "outputs": [],
   "source": [
    "conf = Config(savefile=True)"
   ]
  },
  {
   "cell_type": "code",
   "execution_count": 15,
   "id": "c9ef9104-ceb0-4f6d-91ec-317c0f5bd790",
   "metadata": {},
   "outputs": [],
   "source": [
    "os.makedirs(conf.dirctory, exist_ok=True)"
   ]
  },
  {
   "cell_type": "code",
   "execution_count": 16,
   "id": "ee4c0977-0cc2-447b-aa1a-5e29ac8b3a3f",
   "metadata": {},
   "outputs": [],
   "source": [
    "data_1 = pd.read_csv(conf.data_1, index_col=0)\n",
    "data_2 = pd.read_csv(conf.data_2, index_col=0)"
   ]
  },
  {
   "cell_type": "code",
   "execution_count": 28,
   "id": "5855d6d3-5a2e-4a4e-9242-834b7250e49c",
   "metadata": {},
   "outputs": [
    {
     "data": {
      "text/html": [
       "<div>\n",
       "<style scoped>\n",
       "    .dataframe tbody tr th:only-of-type {\n",
       "        vertical-align: middle;\n",
       "    }\n",
       "\n",
       "    .dataframe tbody tr th {\n",
       "        vertical-align: top;\n",
       "    }\n",
       "\n",
       "    .dataframe thead th {\n",
       "        text-align: right;\n",
       "    }\n",
       "</style>\n",
       "<table border=\"1\" class=\"dataframe\">\n",
       "  <thead>\n",
       "    <tr style=\"text-align: right;\">\n",
       "      <th></th>\n",
       "      <th>time</th>\n",
       "      <th>body_size</th>\n",
       "      <th>group</th>\n",
       "    </tr>\n",
       "  </thead>\n",
       "  <tbody>\n",
       "    <tr>\n",
       "      <th>day1_1</th>\n",
       "      <td>5.13</td>\n",
       "      <td>2.00</td>\n",
       "      <td>1.0</td>\n",
       "    </tr>\n",
       "    <tr>\n",
       "      <th>day1_2</th>\n",
       "      <td>6.55</td>\n",
       "      <td>2.50</td>\n",
       "      <td>1.0</td>\n",
       "    </tr>\n",
       "    <tr>\n",
       "      <th>day1_3</th>\n",
       "      <td>5.36</td>\n",
       "      <td>2.97</td>\n",
       "      <td>1.0</td>\n",
       "    </tr>\n",
       "    <tr>\n",
       "      <th>day1_4</th>\n",
       "      <td>5.81</td>\n",
       "      <td>2.00</td>\n",
       "      <td>1.0</td>\n",
       "    </tr>\n",
       "    <tr>\n",
       "      <th>day1_5</th>\n",
       "      <td>4.81</td>\n",
       "      <td>2.50</td>\n",
       "      <td>1.0</td>\n",
       "    </tr>\n",
       "  </tbody>\n",
       "</table>\n",
       "</div>"
      ],
      "text/plain": [
       "        time  body_size  group\n",
       "day1_1  5.13       2.00    1.0\n",
       "day1_2  6.55       2.50    1.0\n",
       "day1_3  5.36       2.97    1.0\n",
       "day1_4  5.81       2.00    1.0\n",
       "day1_5  4.81       2.50    1.0"
      ]
     },
     "execution_count": 28,
     "metadata": {},
     "output_type": "execute_result"
    }
   ],
   "source": [
    "df_1 = data_1[data_1.iloc[:, 1] >= 2]\n",
    "df_1.index = [f\"day1_{i+1}\" for i in range(len(df_1))]\n",
    "df_1.columns = [\"time\", \"body_size\"]\n",
    "df_1 = df_1.assign(\n",
    "    group = pd.Series(np.ones(len(df_1)), index=df_1.index)\n",
    ")\n",
    "df_1.head()"
   ]
  },
  {
   "cell_type": "code",
   "execution_count": 29,
   "id": "cd1f09f3-31e1-42a4-80d6-34d1f57223a6",
   "metadata": {},
   "outputs": [
    {
     "data": {
      "text/html": [
       "<div>\n",
       "<style scoped>\n",
       "    .dataframe tbody tr th:only-of-type {\n",
       "        vertical-align: middle;\n",
       "    }\n",
       "\n",
       "    .dataframe tbody tr th {\n",
       "        vertical-align: top;\n",
       "    }\n",
       "\n",
       "    .dataframe thead th {\n",
       "        text-align: right;\n",
       "    }\n",
       "</style>\n",
       "<table border=\"1\" class=\"dataframe\">\n",
       "  <thead>\n",
       "    <tr style=\"text-align: right;\">\n",
       "      <th></th>\n",
       "      <th>time</th>\n",
       "      <th>body_size</th>\n",
       "      <th>group</th>\n",
       "    </tr>\n",
       "  </thead>\n",
       "  <tbody>\n",
       "    <tr>\n",
       "      <th>day2_1</th>\n",
       "      <td>5.94</td>\n",
       "      <td>2.00</td>\n",
       "      <td>2.0</td>\n",
       "    </tr>\n",
       "    <tr>\n",
       "      <th>day2_2</th>\n",
       "      <td>5.75</td>\n",
       "      <td>2.50</td>\n",
       "      <td>2.0</td>\n",
       "    </tr>\n",
       "    <tr>\n",
       "      <th>day2_3</th>\n",
       "      <td>5.65</td>\n",
       "      <td>2.97</td>\n",
       "      <td>2.0</td>\n",
       "    </tr>\n",
       "    <tr>\n",
       "      <th>day2_4</th>\n",
       "      <td>5.44</td>\n",
       "      <td>2.00</td>\n",
       "      <td>2.0</td>\n",
       "    </tr>\n",
       "    <tr>\n",
       "      <th>day2_5</th>\n",
       "      <td>5.41</td>\n",
       "      <td>2.50</td>\n",
       "      <td>2.0</td>\n",
       "    </tr>\n",
       "  </tbody>\n",
       "</table>\n",
       "</div>"
      ],
      "text/plain": [
       "        time  body_size  group\n",
       "day2_1  5.94       2.00    2.0\n",
       "day2_2  5.75       2.50    2.0\n",
       "day2_3  5.65       2.97    2.0\n",
       "day2_4  5.44       2.00    2.0\n",
       "day2_5  5.41       2.50    2.0"
      ]
     },
     "execution_count": 29,
     "metadata": {},
     "output_type": "execute_result"
    }
   ],
   "source": [
    "df_2 = data_2[data_2.n_clip == 0].iloc[:, :-1]\n",
    "df_2.index = [f\"day2_{i+1}\" for i in range(len(df_2))]\n",
    "df_2.columns = [\"time\", \"body_size\"]\n",
    "df_2 = df_2.assign(\n",
    "    group = 2 * pd.Series(np.ones(len(df_2)), index=df_2.index)\n",
    ")\n",
    "df_2.head()"
   ]
  },
  {
   "cell_type": "code",
   "execution_count": 30,
   "id": "fc3afa82-340c-4e74-85bc-38ca421c78ff",
   "metadata": {},
   "outputs": [],
   "source": [
    "df = pd.concat([df_1, df_2], axis=0)"
   ]
  },
  {
   "cell_type": "code",
   "execution_count": 83,
   "id": "beed9687-e2c8-44f0-acab-fc1db3da3f9c",
   "metadata": {},
   "outputs": [
    {
     "data": {
      "text/html": [
       "<div>\n",
       "<style scoped>\n",
       "    .dataframe tbody tr th:only-of-type {\n",
       "        vertical-align: middle;\n",
       "    }\n",
       "\n",
       "    .dataframe tbody tr th {\n",
       "        vertical-align: top;\n",
       "    }\n",
       "\n",
       "    .dataframe thead th {\n",
       "        text-align: right;\n",
       "    }\n",
       "</style>\n",
       "<table border=\"1\" class=\"dataframe\">\n",
       "  <thead>\n",
       "    <tr style=\"text-align: right;\">\n",
       "      <th></th>\n",
       "      <th>time</th>\n",
       "      <th>body_size</th>\n",
       "      <th>group</th>\n",
       "    </tr>\n",
       "  </thead>\n",
       "  <tbody>\n",
       "    <tr>\n",
       "      <th>day1_1</th>\n",
       "      <td>5.13</td>\n",
       "      <td>2.00</td>\n",
       "      <td>1.0</td>\n",
       "    </tr>\n",
       "    <tr>\n",
       "      <th>day1_2</th>\n",
       "      <td>6.55</td>\n",
       "      <td>2.50</td>\n",
       "      <td>1.0</td>\n",
       "    </tr>\n",
       "    <tr>\n",
       "      <th>day1_3</th>\n",
       "      <td>5.36</td>\n",
       "      <td>2.97</td>\n",
       "      <td>1.0</td>\n",
       "    </tr>\n",
       "    <tr>\n",
       "      <th>day1_4</th>\n",
       "      <td>5.81</td>\n",
       "      <td>2.00</td>\n",
       "      <td>1.0</td>\n",
       "    </tr>\n",
       "    <tr>\n",
       "      <th>day1_5</th>\n",
       "      <td>4.81</td>\n",
       "      <td>2.50</td>\n",
       "      <td>1.0</td>\n",
       "    </tr>\n",
       "  </tbody>\n",
       "</table>\n",
       "</div>"
      ],
      "text/plain": [
       "        time  body_size  group\n",
       "day1_1  5.13       2.00    1.0\n",
       "day1_2  6.55       2.50    1.0\n",
       "day1_3  5.36       2.97    1.0\n",
       "day1_4  5.81       2.00    1.0\n",
       "day1_5  4.81       2.50    1.0"
      ]
     },
     "execution_count": 83,
     "metadata": {},
     "output_type": "execute_result"
    }
   ],
   "source": [
    "df.head()"
   ]
  },
  {
   "cell_type": "code",
   "execution_count": 36,
   "id": "31bead9b-e86b-4033-ae62-2dec17a48072",
   "metadata": {},
   "outputs": [],
   "source": [
    "groups = df.group\n",
    "n = len(groups.unique())"
   ]
  },
  {
   "cell_type": "code",
   "execution_count": 74,
   "id": "57ab996f-c1e2-45cc-b98d-dd3bc4da41f1",
   "metadata": {},
   "outputs": [],
   "source": [
    "df_sep = feat_selector(power(pd.DataFrame(df.body_size), 3, True, 1))"
   ]
  },
  {
   "cell_type": "code",
   "execution_count": 89,
   "id": "6b5ea518-0ac4-49e0-ad1e-cea88b72574e",
   "metadata": {},
   "outputs": [],
   "source": [
    "class record_data(NamedTuple):\n",
    "    x: pd.core.frame.DataFrame\n",
    "    y: Union[pd.core.series.Series, pd.core.frame.DataFrame]"
   ]
  },
  {
   "cell_type": "markdown",
   "id": "737932c3-5310-4172-bc2c-d174d6e73e5e",
   "metadata": {},
   "source": [
    "---\n",
    "## 学習モデル\u0001"
   ]
  },
  {
   "cell_type": "code",
   "execution_count": 91,
   "id": "91d91fe4-7830-4ba1-a9c0-8c8c1f9f9a87",
   "metadata": {},
   "outputs": [],
   "source": [
    "l_model = [\n",
    "    [\n",
    "        LinearRegression() for i in range(n)\n",
    "    ] for j in range(len(df_sep))\n",
    "]\n",
    "l_train = [[] for j in range(len(df_sep))]\n",
    "l_test = [[] for j in range(len(df_sep))]\n",
    "l_rmse = [[] for j in range(len(df_sep))]\n",
    "\n",
    "iterators = [df_sep, l_model, l_train, l_test, l_rmse]\n",
    "\n",
    "\n",
    "for _df, model, train, test, rmse in zip(*iterators):\n",
    "    arg = [\n",
    "        GroupKFold(n_splits=n).split(_df, df.time, groups),\n",
    "        np.arange(n)\n",
    "    ]\n",
    "    for idx, i in zip(*arg):\n",
    "        data = pd.DataFrame(_df)\n",
    "        x1, y1 = data.iloc[idx[0], :], df.time[idx[0]]\n",
    "        x2, y2 = data.iloc[idx[1], :], df.time[idx[1]]\n",
    "    \n",
    "        model[i].fit(x1, y1)\n",
    "        train += [record_data(x=x1, y=y1)]\n",
    "        test += [record_data(x=x2, y=y2)]\n",
    "        rmse += [np.sqrt(mean_squared_error(y2, model[i].predict(x2)))]"
   ]
  },
  {
   "cell_type": "code",
   "execution_count": 92,
   "id": "a998dc1d-a7cb-4009-9a71-bd85a8fd5bc4",
   "metadata": {},
   "outputs": [
    {
     "data": {
      "text/plain": [
       "[[0.647980825349987, 0.9737569809164673],\n",
       " [0.7141586519622718, 0.9019767892270208],\n",
       " [0.6479808253499867, 0.973756980916467],\n",
       " [0.6612654535056255, 0.901886910870759],\n",
       " [0.8415937262123571, 0.8923461585431222],\n",
       " [0.661265453505626, 0.9018869108707588],\n",
       " [0.6612654535056253, 0.9018869108707588]]"
      ]
     },
     "execution_count": 92,
     "metadata": {},
     "output_type": "execute_result"
    }
   ],
   "source": [
    "l_rmse"
   ]
  },
  {
   "cell_type": "code",
   "execution_count": 95,
   "id": "46fa7847-93a5-47be-b8f3-d9305f85e615",
   "metadata": {},
   "outputs": [
    {
     "data": {
      "text/plain": [
       "array([0.8108689 , 0.80806772, 0.8108689 , 0.78157618, 0.86696994,\n",
       "       0.78157618, 0.78157618])"
      ]
     },
     "execution_count": 95,
     "metadata": {},
     "output_type": "execute_result"
    }
   ],
   "source": [
    "np.array(l_rmse).mean(axis=1)"
   ]
  },
  {
   "cell_type": "code",
   "execution_count": 107,
   "id": "c895fbe1-f582-4fb1-98e0-5f8538690573",
   "metadata": {},
   "outputs": [
    {
     "data": {
      "text/plain": [
       "array([0.16288808, 0.09390907, 0.16288808, 0.12031073, 0.02537622,\n",
       "       0.12031073, 0.12031073])"
      ]
     },
     "execution_count": 107,
     "metadata": {},
     "output_type": "execute_result"
    }
   ],
   "source": [
    "np.array(l_rmse).std(axis=1)"
   ]
  },
  {
   "cell_type": "code",
   "execution_count": 110,
   "id": "aa6a3618-8909-45c7-9035-7a067d5761c9",
   "metadata": {},
   "outputs": [
    {
     "data": {
      "text/html": [
       "<div>\n",
       "<style scoped>\n",
       "    .dataframe tbody tr th:only-of-type {\n",
       "        vertical-align: middle;\n",
       "    }\n",
       "\n",
       "    .dataframe tbody tr th {\n",
       "        vertical-align: top;\n",
       "    }\n",
       "\n",
       "    .dataframe thead th {\n",
       "        text-align: right;\n",
       "    }\n",
       "</style>\n",
       "<table border=\"1\" class=\"dataframe\">\n",
       "  <thead>\n",
       "    <tr style=\"text-align: right;\">\n",
       "      <th></th>\n",
       "      <th>body_size</th>\n",
       "      <th>(body_size-2.5)*(body_size-2.5)</th>\n",
       "    </tr>\n",
       "  </thead>\n",
       "  <tbody>\n",
       "    <tr>\n",
       "      <th>day1_1</th>\n",
       "      <td>2.00</td>\n",
       "      <td>0.2401</td>\n",
       "    </tr>\n",
       "    <tr>\n",
       "      <th>day1_2</th>\n",
       "      <td>2.50</td>\n",
       "      <td>0.0001</td>\n",
       "    </tr>\n",
       "    <tr>\n",
       "      <th>day1_3</th>\n",
       "      <td>2.97</td>\n",
       "      <td>0.2304</td>\n",
       "    </tr>\n",
       "    <tr>\n",
       "      <th>day1_4</th>\n",
       "      <td>2.00</td>\n",
       "      <td>0.2401</td>\n",
       "    </tr>\n",
       "    <tr>\n",
       "      <th>day1_5</th>\n",
       "      <td>2.50</td>\n",
       "      <td>0.0001</td>\n",
       "    </tr>\n",
       "  </tbody>\n",
       "</table>\n",
       "</div>"
      ],
      "text/plain": [
       "        body_size  (body_size-2.5)*(body_size-2.5)\n",
       "day1_1       2.00                           0.2401\n",
       "day1_2       2.50                           0.0001\n",
       "day1_3       2.97                           0.2304\n",
       "day1_4       2.00                           0.2401\n",
       "day1_5       2.50                           0.0001"
      ]
     },
     "execution_count": 110,
     "metadata": {},
     "output_type": "execute_result"
    }
   ],
   "source": [
    "l_train[3][0].x.head()"
   ]
  },
  {
   "cell_type": "code",
   "execution_count": 111,
   "id": "88a1d029-4731-4dec-8fc5-a3d6515c51e7",
   "metadata": {},
   "outputs": [
    {
     "data": {
      "text/html": [
       "<div>\n",
       "<style scoped>\n",
       "    .dataframe tbody tr th:only-of-type {\n",
       "        vertical-align: middle;\n",
       "    }\n",
       "\n",
       "    .dataframe tbody tr th {\n",
       "        vertical-align: top;\n",
       "    }\n",
       "\n",
       "    .dataframe thead th {\n",
       "        text-align: right;\n",
       "    }\n",
       "</style>\n",
       "<table border=\"1\" class=\"dataframe\">\n",
       "  <thead>\n",
       "    <tr style=\"text-align: right;\">\n",
       "      <th></th>\n",
       "      <th>(body_size-2.5)*(body_size-2.5)</th>\n",
       "      <th>(body_size-2.5)*(body_size-2.5)*(body_size-2.5)</th>\n",
       "    </tr>\n",
       "  </thead>\n",
       "  <tbody>\n",
       "    <tr>\n",
       "      <th>day1_1</th>\n",
       "      <td>0.2401</td>\n",
       "      <td>-0.117649</td>\n",
       "    </tr>\n",
       "    <tr>\n",
       "      <th>day1_2</th>\n",
       "      <td>0.0001</td>\n",
       "      <td>0.000001</td>\n",
       "    </tr>\n",
       "    <tr>\n",
       "      <th>day1_3</th>\n",
       "      <td>0.2304</td>\n",
       "      <td>0.110592</td>\n",
       "    </tr>\n",
       "    <tr>\n",
       "      <th>day1_4</th>\n",
       "      <td>0.2401</td>\n",
       "      <td>-0.117649</td>\n",
       "    </tr>\n",
       "    <tr>\n",
       "      <th>day1_5</th>\n",
       "      <td>0.0001</td>\n",
       "      <td>0.000001</td>\n",
       "    </tr>\n",
       "  </tbody>\n",
       "</table>\n",
       "</div>"
      ],
      "text/plain": [
       "        (body_size-2.5)*(body_size-2.5)  \\\n",
       "day1_1                           0.2401   \n",
       "day1_2                           0.0001   \n",
       "day1_3                           0.2304   \n",
       "day1_4                           0.2401   \n",
       "day1_5                           0.0001   \n",
       "\n",
       "        (body_size-2.5)*(body_size-2.5)*(body_size-2.5)  \n",
       "day1_1                                        -0.117649  \n",
       "day1_2                                         0.000001  \n",
       "day1_3                                         0.110592  \n",
       "day1_4                                        -0.117649  \n",
       "day1_5                                         0.000001  "
      ]
     },
     "execution_count": 111,
     "metadata": {},
     "output_type": "execute_result"
    }
   ],
   "source": [
    "l_train[5][0].x.head()"
   ]
  },
  {
   "cell_type": "code",
   "execution_count": 112,
   "id": "adea004f-3ccd-4f33-938d-45c6c488b997",
   "metadata": {},
   "outputs": [
    {
     "data": {
      "text/html": [
       "<div>\n",
       "<style scoped>\n",
       "    .dataframe tbody tr th:only-of-type {\n",
       "        vertical-align: middle;\n",
       "    }\n",
       "\n",
       "    .dataframe tbody tr th {\n",
       "        vertical-align: top;\n",
       "    }\n",
       "\n",
       "    .dataframe thead th {\n",
       "        text-align: right;\n",
       "    }\n",
       "</style>\n",
       "<table border=\"1\" class=\"dataframe\">\n",
       "  <thead>\n",
       "    <tr style=\"text-align: right;\">\n",
       "      <th></th>\n",
       "      <th>body_size</th>\n",
       "      <th>(body_size-2.5)*(body_size-2.5)</th>\n",
       "      <th>(body_size-2.5)*(body_size-2.5)*(body_size-2.5)</th>\n",
       "    </tr>\n",
       "  </thead>\n",
       "  <tbody>\n",
       "    <tr>\n",
       "      <th>day1_1</th>\n",
       "      <td>2.00</td>\n",
       "      <td>0.2401</td>\n",
       "      <td>-0.117649</td>\n",
       "    </tr>\n",
       "    <tr>\n",
       "      <th>day1_2</th>\n",
       "      <td>2.50</td>\n",
       "      <td>0.0001</td>\n",
       "      <td>0.000001</td>\n",
       "    </tr>\n",
       "    <tr>\n",
       "      <th>day1_3</th>\n",
       "      <td>2.97</td>\n",
       "      <td>0.2304</td>\n",
       "      <td>0.110592</td>\n",
       "    </tr>\n",
       "    <tr>\n",
       "      <th>day1_4</th>\n",
       "      <td>2.00</td>\n",
       "      <td>0.2401</td>\n",
       "      <td>-0.117649</td>\n",
       "    </tr>\n",
       "    <tr>\n",
       "      <th>day1_5</th>\n",
       "      <td>2.50</td>\n",
       "      <td>0.0001</td>\n",
       "      <td>0.000001</td>\n",
       "    </tr>\n",
       "  </tbody>\n",
       "</table>\n",
       "</div>"
      ],
      "text/plain": [
       "        body_size  (body_size-2.5)*(body_size-2.5)  \\\n",
       "day1_1       2.00                           0.2401   \n",
       "day1_2       2.50                           0.0001   \n",
       "day1_3       2.97                           0.2304   \n",
       "day1_4       2.00                           0.2401   \n",
       "day1_5       2.50                           0.0001   \n",
       "\n",
       "        (body_size-2.5)*(body_size-2.5)*(body_size-2.5)  \n",
       "day1_1                                        -0.117649  \n",
       "day1_2                                         0.000001  \n",
       "day1_3                                         0.110592  \n",
       "day1_4                                        -0.117649  \n",
       "day1_5                                         0.000001  "
      ]
     },
     "execution_count": 112,
     "metadata": {},
     "output_type": "execute_result"
    }
   ],
   "source": [
    "l_train[6][0].x.head()"
   ]
  },
  {
   "cell_type": "code",
   "execution_count": 226,
   "id": "ee9efc50-3037-4f58-bcae-c4ecf783e087",
   "metadata": {},
   "outputs": [],
   "source": [
    "def x_pred(\n",
    "    x: np.ndarray,\n",
    "    l_dim: List[int],\n",
    "    mean:float = 0\n",
    ") -> np.ndarray:\n",
    "    x_pred = np.hstack([\n",
    "            np.linspace(\n",
    "                min(x) - mean if dim != 1 else min(x),\n",
    "                max(x) - mean if dim != 1 else max(x),\n",
    "                len(x)\n",
    "            ).reshape(-1, 1) ** dim for dim in l_dim\n",
    "    ])\n",
    "    return x_pred\n",
    "\n",
    "def pretty_idx(\n",
    "    name:str,\n",
    "    l_dim: List[int],\n",
    "    mean: float = 0,\n",
    "    digit: int = 2\n",
    ") -> List[str]:\n",
    "    ret = []\n",
    "    for dim in l_dim:\n",
    "        if mean == 0:\n",
    "            temp = name if dim == 1 else f\"{name}\" + \"$^\" + f\"{dim}$\"\n",
    "        else:\n",
    "            temp = name if dim == 1 \\\n",
    "            else f\"({name}-{round(mean, digit)})^{dim}\"\n",
    "        ret += [temp]\n",
    "    return ret"
   ]
  },
  {
   "cell_type": "markdown",
   "id": "908bb505-1231-44e2-b2f8-0b08d9da1229",
   "metadata": {},
   "source": [
    "---\n",
    "## RMSEが小さくなる個々のモデルについて確認"
   ]
  },
  {
   "cell_type": "markdown",
   "id": "4d94e43c-c8a7-47cc-a270-6e4c34012f8f",
   "metadata": {},
   "source": [
    "- 3つ目のモデル"
   ]
  },
  {
   "cell_type": "code",
   "execution_count": 227,
   "id": "251ef0b7-e902-4531-b859-89d48f35fe19",
   "metadata": {},
   "outputs": [],
   "source": [
    "num_target = 3\n",
    "l_dim = [1, 2]\n",
    "\n",
    "arg = [\n",
    "    l_model[num_target],\n",
    "    l_test[num_target],\n",
    "    l_rmse[num_target],\n",
    "    np.arange(2)\n",
    "]"
   ]
  },
  {
   "cell_type": "code",
   "execution_count": 228,
   "id": "39b35f2c-ac3e-4cd2-a518-ca8bd71ee8a0",
   "metadata": {},
   "outputs": [],
   "source": [
    "x_p = np.linspace(2, 2.97, 1000).reshape(-1, 1)\n",
    "x_2d = x_pred(x_p, l_dim, (2+2.5+2.97)/3)\n",
    "new_col = pretty_idx(\"size\", l_dim, (2+2.5+2.97)/3)"
   ]
  },
  {
   "cell_type": "code",
   "execution_count": 240,
   "id": "1677c0b5-4140-4f4f-9c34-96a16220d0cf",
   "metadata": {},
   "outputs": [
    {
     "data": {
      "image/png": "[encoded data removed]",
      "text/plain": [
       "<Figure size 288x576 with 2 Axes>"
      ]
     },
     "metadata": {
      "needs_background": "light"
     },
     "output_type": "display_data"
    }
   ],
   "source": [
    "fig, ax = plt.subplots(2, 1, figsize=(4, 8))\n",
    "plt.subplots_adjust(hspace=0.5)\n",
    "\n",
    "for model, test, rmse, i in zip(*arg):\n",
    "    \n",
    "    ax[i].scatter(\n",
    "        df.body_size[test.x.index], test.y,\n",
    "        c=\"r\", marker=\"s\", edgecolor=\"k\", alpha=0.5,\n",
    "        label=f\"test data (day{2-i})\"\n",
    "    )\n",
    "    title = f\"$y=\" + f\"{model.intercept_.round(2)}\" + \\\n",
    "    \"\".join(\n",
    "        [f\"{model.coef_[idx].round(2)}{name}\" for idx, name in enumerate(new_col)\n",
    "        ]\n",
    "    ) + \"$\\n\" + \"$RMSE=\" + f\"{rmse.round(3)}$\"\n",
    "    ax[i].plot(\n",
    "        x_p, model.predict(x_2d), c=\"k\",\n",
    "        label=f\"prediction (day{i+1})\"\n",
    "    )\n",
    "    \n",
    "    ax[i].set(title=title, ylabel=\"$time$ $[s]$\", xlabel=\"$size$ $[cm]$\")\n",
    "    ax[i].set_ylim([3, 10])\n",
    "    ax[i].legend(bbox_to_anchor=(1.05, 0.7))\n",
    "\n",
    "if conf.savefile:\n",
    "    plt.savefig(f\"{conf.dirctory}/model{num_target}.png\", **conf.kwarg_savefig)"
   ]
  },
  {
   "cell_type": "markdown",
   "id": "19fd6a3b-746a-4f14-a7fd-9513445b5a6b",
   "metadata": {},
   "source": [
    "- 5つめのモデル"
   ]
  },
  {
   "cell_type": "code",
   "execution_count": 241,
   "id": "90eb6b36-ec14-45e8-97a0-bf5de8d0e52b",
   "metadata": {},
   "outputs": [],
   "source": [
    "num_target = 5\n",
    "l_dim = [2, 3]\n",
    "\n",
    "arg = [\n",
    "    l_model[num_target],\n",
    "    l_test[num_target],\n",
    "    l_rmse[num_target],\n",
    "    np.arange(2)\n",
    "]"
   ]
  },
  {
   "cell_type": "code",
   "execution_count": 242,
   "id": "5719b9e5-0f84-488e-8353-a009f83a424c",
   "metadata": {},
   "outputs": [],
   "source": [
    "x_p = np.linspace(2, 2.97, 1000).reshape(-1, 1)\n",
    "x_2d = x_pred(x_p, l_dim, (2+2.5+2.97)/3)\n",
    "new_col = pretty_idx(\"size\", l_dim, (2+2.5+2.97)/3)"
   ]
  },
  {
   "cell_type": "code",
   "execution_count": 243,
   "id": "926471e5-9570-454b-9f1f-0941a55ac3d0",
   "metadata": {},
   "outputs": [
    {
     "data": {
      "image/png": "[encoded data removed]",
      "text/plain": [
       "<Figure size 288x576 with 2 Axes>"
      ]
     },
     "metadata": {
      "needs_background": "light"
     },
     "output_type": "display_data"
    }
   ],
   "source": [
    "fig, ax = plt.subplots(2, 1, figsize=(4, 8))\n",
    "plt.subplots_adjust(hspace=0.5)\n",
    "\n",
    "for model, test, rmse, i in zip(*arg):\n",
    "    \n",
    "    ax[i].scatter(\n",
    "        df.body_size[test.x.index], test.y,\n",
    "        c=\"r\", marker=\"s\", edgecolor=\"k\", alpha=0.5,\n",
    "        label=f\"test data (day{2-i})\"\n",
    "    )\n",
    "    title = f\"$y=\" + f\"{model.intercept_.round(2)}\" + \\\n",
    "    \"\".join(\n",
    "        [f\"{model.coef_[idx].round(2)}{name}\" for idx, name in enumerate(new_col)\n",
    "        ]\n",
    "    ) + \"$\\n\" + \"$RMSE=\" + f\"{rmse.round(3)}$\"\n",
    "    ax[i].plot(\n",
    "        x_p, model.predict(x_2d), c=\"k\",\n",
    "        label=f\"prediction (day{i+1})\"\n",
    "    )\n",
    "    \n",
    "    ax[i].set(title=title, ylabel=\"$time$ $[s]$\", xlabel=\"$size$ $[cm]$\")\n",
    "    ax[i].set_ylim([3, 10])\n",
    "    ax[i].legend(bbox_to_anchor=(1.05, 0.7))\n",
    "\n",
    "if conf.savefile:\n",
    "    plt.savefig(f\"{conf.dirctory}/model{num_target}.png\", **conf.kwarg_savefig)"
   ]
  },
  {
   "cell_type": "markdown",
   "id": "d17f29cd-61a8-42a9-93e1-02862046f1cd",
   "metadata": {},
   "source": [
    "- 6つめのモデル"
   ]
  },
  {
   "cell_type": "code",
   "execution_count": 244,
   "id": "2a959405-7df6-4a86-bf89-3743aca5a218",
   "metadata": {},
   "outputs": [],
   "source": [
    "num_target = 6\n",
    "l_dim = [1, 2, 3]\n",
    "\n",
    "arg = [\n",
    "    l_model[num_target],\n",
    "    l_test[num_target],\n",
    "    l_rmse[num_target],\n",
    "    np.arange(2)\n",
    "]"
   ]
  },
  {
   "cell_type": "code",
   "execution_count": 245,
   "id": "8b584ad7-4135-444a-ba0b-331ac8b5639f",
   "metadata": {},
   "outputs": [],
   "source": [
    "x_p = np.linspace(2, 2.97, 1000).reshape(-1, 1)\n",
    "x_2d = x_pred(x_p, l_dim, (2+2.5+2.97)/3)\n",
    "new_col = pretty_idx(\"size\", l_dim, (2+2.5+2.97)/3)"
   ]
  },
  {
   "cell_type": "code",
   "execution_count": 246,
   "id": "3da183ea-18b2-4c41-9770-e5871f7d0ec2",
   "metadata": {},
   "outputs": [
    {
     "data": {
      "image/png": "[encoded data removed]",
      "text/plain": [
       "<Figure size 288x576 with 2 Axes>"
      ]
     },
     "metadata": {
      "needs_background": "light"
     },
     "output_type": "display_data"
    }
   ],
   "source": [
    "fig, ax = plt.subplots(2, 1, figsize=(4, 8))\n",
    "plt.subplots_adjust(hspace=0.5)\n",
    "\n",
    "for model, test, rmse, i in zip(*arg):\n",
    "    \n",
    "    ax[i].scatter(\n",
    "        df.body_size[test.x.index], test.y,\n",
    "        c=\"r\", marker=\"s\", edgecolor=\"k\", alpha=0.5,\n",
    "        label=f\"test data (day{2-i})\"\n",
    "    )\n",
    "    title = f\"$y=\" + f\"{model.intercept_.round(2)}\" + \\\n",
    "    \"\".join(\n",
    "        [f\"{model.coef_[idx].round(2)}{name}\" for idx, name in enumerate(new_col)\n",
    "        ]\n",
    "    ) + \"$\\n\" + \"$RMSE=\" + f\"{rmse.round(3)}$\"\n",
    "    ax[i].plot(\n",
    "        x_p, model.predict(x_2d), c=\"k\",\n",
    "        label=f\"prediction (day{i+1})\"\n",
    "    )\n",
    "    \n",
    "    ax[i].set(title=title, ylabel=\"$time$ $[s]$\", xlabel=\"$size$ $[cm]$\")\n",
    "    ax[i].set_ylim([3, 10])\n",
    "    ax[i].legend(bbox_to_anchor=(1.05, 0.7))\n",
    "\n",
    "if conf.savefile:\n",
    "    plt.savefig(f\"{conf.dirctory}/model{num_target}.png\", **conf.kwarg_savefig)"
   ]
  },
  {
   "cell_type": "markdown",
   "id": "593bb44e-744e-46b4-83d2-416a792b46b7",
   "metadata": {},
   "source": [
    "- 予測の観点では、これらの3つのモデルが最良であったが、変数の数と解釈性のシンプルさ的には最初のやつが最良か？"
   ]
  },
  {
   "cell_type": "code",
   "execution_count": null,
   "id": "bc98ca22-e37a-4a80-b77a-5db7a7bf721e",
   "metadata": {},
   "outputs": [],
   "source": []
  }
 ],
 "metadata": {
  "kernelspec": {
   "display_name": "Python 3",
   "language": "python",
   "name": "python3"
  },
  "language_info": {
   "codemirror_mode": {
    "name": "ipython",
    "version": 3
   },
   "file_extension": ".py",
   "mimetype": "text/x-python",
   "name": "python",
   "nbconvert_exporter": "python",
   "pygments_lexer": "ipython3",
   "version": "3.8.8"
  }
 },
 "nbformat": 4,
 "nbformat_minor": 5
}
