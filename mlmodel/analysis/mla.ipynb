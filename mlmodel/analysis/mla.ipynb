{
 "cells": [
  {
   "cell_type": "code",
   "execution_count": 1,
   "id": "ac839847-e26a-4dc0-9825-d2cc0a543a8c",
   "metadata": {},
   "outputs": [],
   "source": [
    "import os\n",
    "from typing import Dict, NamedTuple, Union\n",
    "\n",
    "import numpy as np\n",
    "import pandas as pd\n",
    "import matplotlib.pyplot as plt\n",
    "import seaborn as sns\n",
    "import statsmodels.api as sm"
   ]
  },
  {
   "cell_type": "code",
   "execution_count": 2,
   "id": "0ae4fcac-04b9-4bc4-8632-76a92d322c56",
   "metadata": {},
   "outputs": [],
   "source": [
    "class Config(NamedTuple):\n",
    "    data_1: str = \"../pre_vertical.csv\"\n",
    "    data_2: str = \"../2way_anova_portrait.csv\"\n",
    "    dirctory: str = \"../images/dataviz\"\n",
    "    savefile: bool = False\n",
    "    kwarg_savefig: Dict[str, Union[str, int, float]] = {\n",
    "        \"facecolor\": \"white\",\n",
    "        \"dpi\": 300,\n",
    "        \"bbox_inches\": \"tight\",\n",
    "        \"pad_inches\": 0.05\n",
    "    }"
   ]
  },
  {
   "cell_type": "code",
   "execution_count": 3,
   "id": "d06eff08-9f98-47c6-8f61-de3a22755091",
   "metadata": {},
   "outputs": [],
   "source": [
    "conf = Config(savefile=True)"
   ]
  },
  {
   "cell_type": "code",
   "execution_count": 4,
   "id": "c9ef9104-ceb0-4f6d-91ec-317c0f5bd790",
   "metadata": {},
   "outputs": [],
   "source": [
    "os.makedirs(conf.dirctory, exist_ok=True)"
   ]
  },
  {
   "cell_type": "code",
   "execution_count": 5,
   "id": "ee4c0977-0cc2-447b-aa1a-5e29ac8b3a3f",
   "metadata": {},
   "outputs": [],
   "source": [
    "data_1 = pd.read_csv(conf.data_1, index_col=0)\n",
    "data_2 = pd.read_csv(conf.data_2, index_col=0)"
   ]
  },
  {
   "cell_type": "code",
   "execution_count": 6,
   "id": "5855d6d3-5a2e-4a4e-9242-834b7250e49c",
   "metadata": {},
   "outputs": [
    {
     "data": {
      "text/html": [
       "<div>\n",
       "<style scoped>\n",
       "    .dataframe tbody tr th:only-of-type {\n",
       "        vertical-align: middle;\n",
       "    }\n",
       "\n",
       "    .dataframe tbody tr th {\n",
       "        vertical-align: top;\n",
       "    }\n",
       "\n",
       "    .dataframe thead th {\n",
       "        text-align: right;\n",
       "    }\n",
       "</style>\n",
       "<table border=\"1\" class=\"dataframe\">\n",
       "  <thead>\n",
       "    <tr style=\"text-align: right;\">\n",
       "      <th></th>\n",
       "      <th>time</th>\n",
       "      <th>size</th>\n",
       "    </tr>\n",
       "  </thead>\n",
       "  <tbody>\n",
       "    <tr>\n",
       "      <th>day1_1</th>\n",
       "      <td>5.13</td>\n",
       "      <td>2.00</td>\n",
       "    </tr>\n",
       "    <tr>\n",
       "      <th>day1_2</th>\n",
       "      <td>6.55</td>\n",
       "      <td>2.50</td>\n",
       "    </tr>\n",
       "    <tr>\n",
       "      <th>day1_3</th>\n",
       "      <td>5.36</td>\n",
       "      <td>2.97</td>\n",
       "    </tr>\n",
       "    <tr>\n",
       "      <th>day1_4</th>\n",
       "      <td>5.81</td>\n",
       "      <td>2.00</td>\n",
       "    </tr>\n",
       "    <tr>\n",
       "      <th>day1_5</th>\n",
       "      <td>4.81</td>\n",
       "      <td>2.50</td>\n",
       "    </tr>\n",
       "  </tbody>\n",
       "</table>\n",
       "</div>"
      ],
      "text/plain": [
       "        time  size\n",
       "day1_1  5.13  2.00\n",
       "day1_2  6.55  2.50\n",
       "day1_3  5.36  2.97\n",
       "day1_4  5.81  2.00\n",
       "day1_5  4.81  2.50"
      ]
     },
     "execution_count": 6,
     "metadata": {},
     "output_type": "execute_result"
    }
   ],
   "source": [
    "df_1 = data_1[data_1.iloc[:, 1] >= 2]\n",
    "df_1.index = [f\"day1_{i+1}\" for i in range(len(df_1))]\n",
    "df_1.head()"
   ]
  },
  {
   "cell_type": "code",
   "execution_count": 7,
   "id": "cd1f09f3-31e1-42a4-80d6-34d1f57223a6",
   "metadata": {},
   "outputs": [
    {
     "data": {
      "text/html": [
       "<div>\n",
       "<style scoped>\n",
       "    .dataframe tbody tr th:only-of-type {\n",
       "        vertical-align: middle;\n",
       "    }\n",
       "\n",
       "    .dataframe tbody tr th {\n",
       "        vertical-align: top;\n",
       "    }\n",
       "\n",
       "    .dataframe thead th {\n",
       "        text-align: right;\n",
       "    }\n",
       "</style>\n",
       "<table border=\"1\" class=\"dataframe\">\n",
       "  <thead>\n",
       "    <tr style=\"text-align: right;\">\n",
       "      <th></th>\n",
       "      <th>time</th>\n",
       "      <th>size</th>\n",
       "      <th>n_clip</th>\n",
       "    </tr>\n",
       "  </thead>\n",
       "  <tbody>\n",
       "    <tr>\n",
       "      <th>day2_1</th>\n",
       "      <td>5.94</td>\n",
       "      <td>2.00</td>\n",
       "      <td>0.0</td>\n",
       "    </tr>\n",
       "    <tr>\n",
       "      <th>day2_2</th>\n",
       "      <td>5.75</td>\n",
       "      <td>2.50</td>\n",
       "      <td>0.0</td>\n",
       "    </tr>\n",
       "    <tr>\n",
       "      <th>day2_3</th>\n",
       "      <td>5.65</td>\n",
       "      <td>2.97</td>\n",
       "      <td>0.0</td>\n",
       "    </tr>\n",
       "    <tr>\n",
       "      <th>day2_4</th>\n",
       "      <td>5.44</td>\n",
       "      <td>2.00</td>\n",
       "      <td>0.0</td>\n",
       "    </tr>\n",
       "    <tr>\n",
       "      <th>day2_5</th>\n",
       "      <td>5.41</td>\n",
       "      <td>2.50</td>\n",
       "      <td>0.0</td>\n",
       "    </tr>\n",
       "  </tbody>\n",
       "</table>\n",
       "</div>"
      ],
      "text/plain": [
       "        time  size  n_clip\n",
       "day2_1  5.94  2.00     0.0\n",
       "day2_2  5.75  2.50     0.0\n",
       "day2_3  5.65  2.97     0.0\n",
       "day2_4  5.44  2.00     0.0\n",
       "day2_5  5.41  2.50     0.0"
      ]
     },
     "execution_count": 7,
     "metadata": {},
     "output_type": "execute_result"
    }
   ],
   "source": [
    "df_2 = data_2[data_2.n_clip == 0]\n",
    "df_2.index = [f\"day2_{i+1}\" for i in range(len(df_2))]\n",
    "df_2.head()"
   ]
  },
  {
   "cell_type": "code",
   "execution_count": 8,
   "id": "fc3afa82-340c-4e74-85bc-38ca421c78ff",
   "metadata": {},
   "outputs": [],
   "source": [
    "df = pd.concat([df_1, df_2.iloc[:, :-1]], axis=0)"
   ]
  },
  {
   "cell_type": "code",
   "execution_count": 54,
   "id": "5f63ee81-1334-446f-88f0-d216cb406eae",
   "metadata": {},
   "outputs": [],
   "source": [
    "df_sep = [\n",
    "    df.T.filter(regex=\"day1_\").T,\n",
    "    df.T.filter(regex=\"day2_\").T\n",
    "]"
   ]
  },
  {
   "cell_type": "code",
   "execution_count": 55,
   "id": "f37635ce-f77b-4a41-8530-a12c9f7e5b6d",
   "metadata": {},
   "outputs": [],
   "source": [
    "df_exog = df_sep[0].iloc[:, -1]"
   ]
  },
  {
   "cell_type": "code",
   "execution_count": 56,
   "id": "d8bcde24-3e04-4460-8919-2bea20f54ad6",
   "metadata": {},
   "outputs": [],
   "source": [
    "df_endog = df_sep[0].time"
   ]
  },
  {
   "cell_type": "code",
   "execution_count": 57,
   "id": "d8b89676-3124-4ec1-8475-3835a53c1165",
   "metadata": {},
   "outputs": [
    {
     "data": {
      "text/plain": [
       "(15,)"
      ]
     },
     "execution_count": 57,
     "metadata": {},
     "output_type": "execute_result"
    }
   ],
   "source": [
    "df_endog.shape"
   ]
  },
  {
   "cell_type": "code",
   "execution_count": 58,
   "id": "fc8262f7-4af8-4ad1-a1e5-2b979658ff01",
   "metadata": {},
   "outputs": [],
   "source": [
    "x = sm.add_constant(df_exog)"
   ]
  },
  {
   "cell_type": "code",
   "execution_count": 59,
   "id": "5531169f-4898-4162-b315-5a9e656f5df5",
   "metadata": {},
   "outputs": [],
   "source": [
    "model = sm.OLS(df_endog, x)"
   ]
  },
  {
   "cell_type": "code",
   "execution_count": 60,
   "id": "9728661a-0689-4974-8a0a-d3f3cfb188d5",
   "metadata": {},
   "outputs": [],
   "source": [
    "result = model.fit()"
   ]
  },
  {
   "cell_type": "code",
   "execution_count": 61,
   "id": "c554dabf-cea9-477e-9d5e-a38abf195c2b",
   "metadata": {},
   "outputs": [
    {
     "name": "stderr",
     "output_type": "stream",
     "text": [
      "/opt/conda/lib/python3.8/site-packages/scipy/stats/stats.py:1603: UserWarning: kurtosistest only valid for n>=20 ... continuing anyway, n=15\n",
      "  warnings.warn(\"kurtosistest only valid for n>=20 ... continuing \"\n"
     ]
    },
    {
     "data": {
      "text/html": [
       "<table class=\"simpletable\">\n",
       "<caption>OLS Regression Results</caption>\n",
       "<tr>\n",
       "  <th>Dep. Variable:</th>          <td>time</td>       <th>  R-squared:         </th> <td>   0.023</td>\n",
       "</tr>\n",
       "<tr>\n",
       "  <th>Model:</th>                   <td>OLS</td>       <th>  Adj. R-squared:    </th> <td>  -0.052</td>\n",
       "</tr>\n",
       "<tr>\n",
       "  <th>Method:</th>             <td>Least Squares</td>  <th>  F-statistic:       </th> <td>  0.3119</td>\n",
       "</tr>\n",
       "<tr>\n",
       "  <th>Date:</th>             <td>Thu, 14 Oct 2021</td> <th>  Prob (F-statistic):</th>  <td> 0.586</td> \n",
       "</tr>\n",
       "<tr>\n",
       "  <th>Time:</th>                 <td>17:42:23</td>     <th>  Log-Likelihood:    </th> <td> -18.957</td>\n",
       "</tr>\n",
       "<tr>\n",
       "  <th>No. Observations:</th>      <td>    15</td>      <th>  AIC:               </th> <td>   41.91</td>\n",
       "</tr>\n",
       "<tr>\n",
       "  <th>Df Residuals:</th>          <td>    13</td>      <th>  BIC:               </th> <td>   43.33</td>\n",
       "</tr>\n",
       "<tr>\n",
       "  <th>Df Model:</th>              <td>     1</td>      <th>                     </th>     <td> </td>   \n",
       "</tr>\n",
       "<tr>\n",
       "  <th>Covariance Type:</th>      <td>nonrobust</td>    <th>                     </th>     <td> </td>   \n",
       "</tr>\n",
       "</table>\n",
       "<table class=\"simpletable\">\n",
       "<tr>\n",
       "    <td></td>       <th>coef</th>     <th>std err</th>      <th>t</th>      <th>P>|t|</th>  <th>[0.025</th>    <th>0.975]</th>  \n",
       "</tr>\n",
       "<tr>\n",
       "  <th>const</th> <td>    6.8979</td> <td>    1.512</td> <td>    4.563</td> <td> 0.001</td> <td>    3.632</td> <td>   10.164</td>\n",
       "</tr>\n",
       "<tr>\n",
       "  <th>size</th>  <td>   -0.3349</td> <td>    0.600</td> <td>   -0.559</td> <td> 0.586</td> <td>   -1.630</td> <td>    0.961</td>\n",
       "</tr>\n",
       "</table>\n",
       "<table class=\"simpletable\">\n",
       "<tr>\n",
       "  <th>Omnibus:</th>       <td> 3.651</td> <th>  Durbin-Watson:     </th> <td>   1.943</td>\n",
       "</tr>\n",
       "<tr>\n",
       "  <th>Prob(Omnibus):</th> <td> 0.161</td> <th>  Jarque-Bera (JB):  </th> <td>   1.739</td>\n",
       "</tr>\n",
       "<tr>\n",
       "  <th>Skew:</th>          <td> 0.813</td> <th>  Prob(JB):          </th> <td>   0.419</td>\n",
       "</tr>\n",
       "<tr>\n",
       "  <th>Kurtosis:</th>      <td> 3.375</td> <th>  Cond. No.          </th> <td>    18.5</td>\n",
       "</tr>\n",
       "</table><br/><br/>Notes:<br/>[1] Standard Errors assume that the covariance matrix of the errors is correctly specified."
      ],
      "text/plain": [
       "<class 'statsmodels.iolib.summary.Summary'>\n",
       "\"\"\"\n",
       "                            OLS Regression Results                            \n",
       "==============================================================================\n",
       "Dep. Variable:                   time   R-squared:                       0.023\n",
       "Model:                            OLS   Adj. R-squared:                 -0.052\n",
       "Method:                 Least Squares   F-statistic:                    0.3119\n",
       "Date:                Thu, 14 Oct 2021   Prob (F-statistic):              0.586\n",
       "Time:                        17:42:23   Log-Likelihood:                -18.957\n",
       "No. Observations:                  15   AIC:                             41.91\n",
       "Df Residuals:                      13   BIC:                             43.33\n",
       "Df Model:                           1                                         \n",
       "Covariance Type:            nonrobust                                         \n",
       "==============================================================================\n",
       "                 coef    std err          t      P>|t|      [0.025      0.975]\n",
       "------------------------------------------------------------------------------\n",
       "const          6.8979      1.512      4.563      0.001       3.632      10.164\n",
       "size          -0.3349      0.600     -0.559      0.586      -1.630       0.961\n",
       "==============================================================================\n",
       "Omnibus:                        3.651   Durbin-Watson:                   1.943\n",
       "Prob(Omnibus):                  0.161   Jarque-Bera (JB):                1.739\n",
       "Skew:                           0.813   Prob(JB):                        0.419\n",
       "Kurtosis:                       3.375   Cond. No.                         18.5\n",
       "==============================================================================\n",
       "\n",
       "Notes:\n",
       "[1] Standard Errors assume that the covariance matrix of the errors is correctly specified.\n",
       "\"\"\""
      ]
     },
     "execution_count": 61,
     "metadata": {},
     "output_type": "execute_result"
    }
   ],
   "source": [
    "result.summary()"
   ]
  },
  {
   "cell_type": "code",
   "execution_count": 62,
   "id": "92af6e02-55af-47e4-bdf1-7db826a2d12a",
   "metadata": {},
   "outputs": [
    {
     "data": {
      "text/plain": [
       "41.91346651783479"
      ]
     },
     "execution_count": 62,
     "metadata": {},
     "output_type": "execute_result"
    }
   ],
   "source": [
    "result.aic"
   ]
  },
  {
   "cell_type": "code",
   "execution_count": 63,
   "id": "cd30f749-4bde-40f5-8c6c-baaac9daabb5",
   "metadata": {},
   "outputs": [],
   "source": [
    "mse = (result.resid  ** 2).sum()"
   ]
  },
  {
   "cell_type": "code",
   "execution_count": 64,
   "id": "00a3bd3c-09dd-43ca-a208-82d1eaf9e1ef",
   "metadata": {},
   "outputs": [
    {
     "data": {
      "text/plain": [
       "(15, 2)"
      ]
     },
     "execution_count": 64,
     "metadata": {},
     "output_type": "execute_result"
    }
   ],
   "source": [
    "x.shape"
   ]
  },
  {
   "cell_type": "code",
   "execution_count": 66,
   "id": "cc1be9e3-040c-4ea2-99f2-f22ffd79ac8e",
   "metadata": {},
   "outputs": [
    {
     "data": {
      "text/plain": [
       "1.0"
      ]
     },
     "execution_count": 66,
     "metadata": {},
     "output_type": "execute_result"
    }
   ],
   "source": [
    "model.df_model"
   ]
  },
  {
   "cell_type": "code",
   "execution_count": 67,
   "id": "f86842fd-dced-4741-bf7c-2eb5ec7bce54",
   "metadata": {},
   "outputs": [
    {
     "data": {
      "text/plain": [
       "-18.956733258917396"
      ]
     },
     "execution_count": 67,
     "metadata": {},
     "output_type": "execute_result"
    }
   ],
   "source": [
    "result.llf"
   ]
  },
  {
   "cell_type": "code",
   "execution_count": 68,
   "id": "46cfc6c5-46a6-46c0-a2bc-01df3e56b8bf",
   "metadata": {},
   "outputs": [],
   "source": [
    "from itertools import combinations"
   ]
  },
  {
   "cell_type": "code",
   "execution_count": 85,
   "id": "10ebba3d-4112-4797-9ab8-2fc9bb3cc19b",
   "metadata": {},
   "outputs": [],
   "source": [
    "l_comb = list(combinations(df.columns, 2))\n",
    "\n",
    "df_separated = [df.loc[:, list(comb)] for comb in l_comb]"
   ]
  },
  {
   "cell_type": "code",
   "execution_count": 86,
   "id": "cb16efba-4f26-4554-bf30-4a1b0c360199",
   "metadata": {},
   "outputs": [
    {
     "data": {
      "text/plain": [
       "[         time  size\n",
       " day1_1   5.13  2.00\n",
       " day1_2   6.55  2.50\n",
       " day1_3   5.36  2.97\n",
       " day1_4   5.81  2.00\n",
       " day1_5   4.81  2.50\n",
       " day1_6   5.34  2.97\n",
       " day1_7   6.83  2.00\n",
       " day1_8   7.10  2.50\n",
       " day1_9   6.10  2.97\n",
       " day1_10  5.59  2.00\n",
       " day1_11  6.73  2.50\n",
       " day1_12  5.62  2.97\n",
       " day1_13  6.28  2.00\n",
       " day1_14  8.21  2.50\n",
       " day1_15  5.50  2.97\n",
       " day2_1   5.94  2.00\n",
       " day2_2   5.75  2.50\n",
       " day2_3   5.65  2.97\n",
       " day2_4   5.44  2.00\n",
       " day2_5   5.41  2.50\n",
       " day2_6   5.00  2.97\n",
       " day2_7   6.25  2.00\n",
       " day2_8   6.41  2.50\n",
       " day2_9   5.69  2.97\n",
       " day2_10  6.32  2.00\n",
       " day2_11  6.09  2.50\n",
       " day2_12  4.46  2.97\n",
       " day2_13  5.39  2.00\n",
       " day2_14  5.87  2.50\n",
       " day2_15  4.81  2.97]"
      ]
     },
     "execution_count": 86,
     "metadata": {},
     "output_type": "execute_result"
    }
   ],
   "source": [
    "df_separated"
   ]
  },
  {
   "cell_type": "code",
   "execution_count": null,
   "id": "bc98ca22-e37a-4a80-b77a-5db7a7bf721e",
   "metadata": {},
   "outputs": [],
   "source": []
  }
 ],
 "metadata": {
  "kernelspec": {
   "display_name": "Python 3",
   "language": "python",
   "name": "python3"
  },
  "language_info": {
   "codemirror_mode": {
    "name": "ipython",
    "version": 3
   },
   "file_extension": ".py",
   "mimetype": "text/x-python",
   "name": "python",
   "nbconvert_exporter": "python",
   "pygments_lexer": "ipython3",
   "version": "3.8.8"
  }
 },
 "nbformat": 4,
 "nbformat_minor": 5
}
