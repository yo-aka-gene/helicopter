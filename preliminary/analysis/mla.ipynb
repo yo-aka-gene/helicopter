{
 "cells": [
  {
   "cell_type": "code",
   "execution_count": null,
   "id": "d81a1617-e8c4-4016-a782-6d28b3680d13",
   "metadata": {},
   "outputs": [],
   "source": [
    "import os\n",
    "from typing import Dict, NamedTuple, Union, List, Tuple\n",
    "from itertools import combinations\n",
    "\n",
    "import numpy as np\n",
    "import pandas as pd\n",
    "import matplotlib.pyplot as plt\n",
    "import seaborn as sns\n",
    "import statsmodels.api as sm"
   ]
  },
  {
   "cell_type": "code",
   "execution_count": 2,
   "id": "ec6009a8-c94b-4571-9698-45f0a2978851",
   "metadata": {},
   "outputs": [],
   "source": [
    "class Config(NamedTuple):\n",
    "    data: str = \"../pre_vertical.csv\"\n",
    "    dirctory: str = \"../images/mla\"\n",
    "    savefile: bool = False\n",
    "    kwarg_savefig: Dict[str, Union[str, int, float]] = {\n",
    "        \"facecolor\": \"white\",\n",
    "        \"dpi\": 300,\n",
    "        \"bbox_inches\": \"tight\",\n",
    "        \"pad_inches\": 0.05\n",
    "    }"
   ]
  },
  {
   "cell_type": "code",
   "execution_count": 3,
   "id": "24ea12d9-d6ef-4fa6-a4ca-c8d85ce3b063",
   "metadata": {},
   "outputs": [],
   "source": [
    "conf = Config(savefile=True)"
   ]
  },
  {
   "cell_type": "code",
   "execution_count": 4,
   "id": "0924a30d-8c46-4ab3-93e3-82fa922d0ab6",
   "metadata": {},
   "outputs": [],
   "source": [
    "os.makedirs(conf.dirctory, exist_ok=True)"
   ]
  },
  {
   "cell_type": "code",
   "execution_count": 5,
   "id": "7ca49d2c-103c-4ecb-a867-896e8381b965",
   "metadata": {},
   "outputs": [],
   "source": [
    "# load result data\n",
    "\n",
    "res = pd.read_csv(conf.data, index_col=0)"
   ]
  },
  {
   "cell_type": "code",
   "execution_count": 6,
   "id": "7a276c0a-f7e6-4b50-9303-3cab0392e4d6",
   "metadata": {},
   "outputs": [
    {
     "data": {
      "text/html": [
       "<div>\n",
       "<style scoped>\n",
       "    .dataframe tbody tr th:only-of-type {\n",
       "        vertical-align: middle;\n",
       "    }\n",
       "\n",
       "    .dataframe tbody tr th {\n",
       "        vertical-align: top;\n",
       "    }\n",
       "\n",
       "    .dataframe thead th {\n",
       "        text-align: right;\n",
       "    }\n",
       "</style>\n",
       "<table border=\"1\" class=\"dataframe\">\n",
       "  <thead>\n",
       "    <tr style=\"text-align: right;\">\n",
       "      <th></th>\n",
       "      <th>time</th>\n",
       "      <th>size</th>\n",
       "    </tr>\n",
       "  </thead>\n",
       "  <tbody>\n",
       "    <tr>\n",
       "      <th>0</th>\n",
       "      <td>4.94</td>\n",
       "      <td>1.0</td>\n",
       "    </tr>\n",
       "    <tr>\n",
       "      <th>1</th>\n",
       "      <td>5.68</td>\n",
       "      <td>1.5</td>\n",
       "    </tr>\n",
       "  </tbody>\n",
       "</table>\n",
       "</div>"
      ],
      "text/plain": [
       "   time  size\n",
       "0  4.94   1.0\n",
       "1  5.68   1.5"
      ]
     },
     "execution_count": 6,
     "metadata": {},
     "output_type": "execute_result"
    }
   ],
   "source": [
    "res.head(2)"
   ]
  },
  {
   "cell_type": "code",
   "execution_count": 7,
   "id": "e0e9a79f-b8c7-432c-a277-67cdcb3b44d5",
   "metadata": {},
   "outputs": [],
   "source": [
    "def power(\n",
    "    data: pd.core.frame.DataFrame, \n",
    "    dim: int,\n",
    "    subtract_scale: bool = True,\n",
    "    name_digit: int = 3\n",
    "    ) -> pd.core.frame.DataFrame:\n",
    "\n",
    "    assert isinstance(dim, int) and dim >= 1, \\\n",
    "        f\"dim expected non-zero positive int; got {dim}\"\n",
    "    assert isinstance(name_digit, int) and name_digit >= 0, \\\n",
    "        f\"name_digit expected positive int; got {name_digit}\"\n",
    "\n",
    "    ret = pd.DataFrame(index=data.index)\n",
    "\n",
    "    for i in range(dim):\n",
    "        temp = data ** (i + 1) if not subtract_scale \\\n",
    "            else (data - data.mean()) ** (i + 1)\n",
    "        if subtract_scale:\n",
    "            temp.columns = [\n",
    "                f\"({name}-{data.mean()[j].round(name_digit)})\" + \\\n",
    "                    f\"*({name}-{data.mean()[j].round(name_digit)})\" * (i) for j, name in enumerate(temp.columns)\n",
    "                ]\n",
    "        else:\n",
    "            temp.columns = [\n",
    "                f\"{name}\" + f\"*{name}\" * (i) for name in temp.columns\n",
    "                ]\n",
    "        ret = pd.concat([ret, temp], axis=1)\n",
    "    \n",
    "    return ret\n",
    "\n",
    "def feat_selector(data: pd.core.frame.DataFrame) -> List[pd.core.frame.DataFrame]:\n",
    "    ret = []\n",
    "    for i in range(len(data)):\n",
    "        l_comb = list(combinations(data.columns, i + 1))\n",
    "        ret += [data.loc[:, list(comb)] for comb in l_comb]\n",
    "    return ret\n"
   ]
  },
  {
   "cell_type": "code",
   "execution_count": 8,
   "id": "437487d7-e2e7-42ea-b7f5-e0ce741cf8c4",
   "metadata": {},
   "outputs": [
    {
     "data": {
      "text/html": [
       "<div>\n",
       "<style scoped>\n",
       "    .dataframe tbody tr th:only-of-type {\n",
       "        vertical-align: middle;\n",
       "    }\n",
       "\n",
       "    .dataframe tbody tr th {\n",
       "        vertical-align: top;\n",
       "    }\n",
       "\n",
       "    .dataframe thead th {\n",
       "        text-align: right;\n",
       "    }\n",
       "</style>\n",
       "<table border=\"1\" class=\"dataframe\">\n",
       "  <thead>\n",
       "    <tr style=\"text-align: right;\">\n",
       "      <th></th>\n",
       "      <th>time</th>\n",
       "      <th>size</th>\n",
       "    </tr>\n",
       "  </thead>\n",
       "  <tbody>\n",
       "    <tr>\n",
       "      <th>0</th>\n",
       "      <td>4.94</td>\n",
       "      <td>1.0</td>\n",
       "    </tr>\n",
       "    <tr>\n",
       "      <th>1</th>\n",
       "      <td>5.68</td>\n",
       "      <td>1.5</td>\n",
       "    </tr>\n",
       "  </tbody>\n",
       "</table>\n",
       "</div>"
      ],
      "text/plain": [
       "   time  size\n",
       "0  4.94   1.0\n",
       "1  5.68   1.5"
      ]
     },
     "execution_count": 8,
     "metadata": {},
     "output_type": "execute_result"
    }
   ],
   "source": [
    "res.head(2)"
   ]
  },
  {
   "cell_type": "code",
   "execution_count": 10,
   "id": "036e6013-4c4a-4802-aa82-6cd406ea1bf9",
   "metadata": {},
   "outputs": [
    {
     "data": {
      "text/html": [
       "<div>\n",
       "<style scoped>\n",
       "    .dataframe tbody tr th:only-of-type {\n",
       "        vertical-align: middle;\n",
       "    }\n",
       "\n",
       "    .dataframe tbody tr th {\n",
       "        vertical-align: top;\n",
       "    }\n",
       "\n",
       "    .dataframe thead th {\n",
       "        text-align: right;\n",
       "    }\n",
       "</style>\n",
       "<table border=\"1\" class=\"dataframe\">\n",
       "  <thead>\n",
       "    <tr style=\"text-align: right;\">\n",
       "      <th></th>\n",
       "      <th>(size-1.99)</th>\n",
       "      <th>(size-1.99)*(size-1.99)</th>\n",
       "      <th>(size-1.99)*(size-1.99)*(size-1.99)</th>\n",
       "    </tr>\n",
       "  </thead>\n",
       "  <tbody>\n",
       "    <tr>\n",
       "      <th>0</th>\n",
       "      <td>-0.994</td>\n",
       "      <td>0.988036</td>\n",
       "      <td>-0.982108</td>\n",
       "    </tr>\n",
       "    <tr>\n",
       "      <th>1</th>\n",
       "      <td>-0.494</td>\n",
       "      <td>0.244036</td>\n",
       "      <td>-0.120554</td>\n",
       "    </tr>\n",
       "  </tbody>\n",
       "</table>\n",
       "</div>"
      ],
      "text/plain": [
       "   (size-1.99)  (size-1.99)*(size-1.99)  (size-1.99)*(size-1.99)*(size-1.99)\n",
       "0       -0.994                 0.988036                            -0.982108\n",
       "1       -0.494                 0.244036                            -0.120554"
      ]
     },
     "execution_count": 10,
     "metadata": {},
     "output_type": "execute_result"
    }
   ],
   "source": [
    "power(res.iloc[:, 1:], 3, True, 2).head(2)"
   ]
  },
  {
   "cell_type": "code",
   "execution_count": 10,
   "id": "871c8843-d65b-45df-82c9-d893eca2e98b",
   "metadata": {},
   "outputs": [
    {
     "data": {
      "text/html": [
       "<div>\n",
       "<style scoped>\n",
       "    .dataframe tbody tr th:only-of-type {\n",
       "        vertical-align: middle;\n",
       "    }\n",
       "\n",
       "    .dataframe tbody tr th {\n",
       "        vertical-align: top;\n",
       "    }\n",
       "\n",
       "    .dataframe thead th {\n",
       "        text-align: right;\n",
       "    }\n",
       "</style>\n",
       "<table border=\"1\" class=\"dataframe\">\n",
       "  <thead>\n",
       "    <tr style=\"text-align: right;\">\n",
       "      <th></th>\n",
       "      <th>(pod-8.0)</th>\n",
       "      <th>(body-2.0)</th>\n",
       "      <th>(wing-10.0)</th>\n",
       "      <th>(width-6.0)</th>\n",
       "      <th>(thickness-3.0)</th>\n",
       "      <th>(fixation-0.0)</th>\n",
       "      <th>(thread-0.0)</th>\n",
       "      <th>(shape-0.0)</th>\n",
       "    </tr>\n",
       "  </thead>\n",
       "  <tbody>\n",
       "    <tr>\n",
       "      <th>1</th>\n",
       "      <td>4.0</td>\n",
       "      <td>0.5</td>\n",
       "      <td>-5.0</td>\n",
       "      <td>2.0</td>\n",
       "      <td>-2.0</td>\n",
       "      <td>-1.0</td>\n",
       "      <td>-1.0</td>\n",
       "      <td>-1.0</td>\n",
       "    </tr>\n",
       "    <tr>\n",
       "      <th>2</th>\n",
       "      <td>0.0</td>\n",
       "      <td>0.0</td>\n",
       "      <td>0.0</td>\n",
       "      <td>0.0</td>\n",
       "      <td>0.0</td>\n",
       "      <td>-1.0</td>\n",
       "      <td>-1.0</td>\n",
       "      <td>1.0</td>\n",
       "    </tr>\n",
       "  </tbody>\n",
       "</table>\n",
       "</div>"
      ],
      "text/plain": [
       "   (pod-8.0)  (body-2.0)  (wing-10.0)  (width-6.0)  (thickness-3.0)  \\\n",
       "1        4.0         0.5         -5.0          2.0             -2.0   \n",
       "2        0.0         0.0          0.0          0.0              0.0   \n",
       "\n",
       "   (fixation-0.0)  (thread-0.0)  (shape-0.0)  \n",
       "1            -1.0          -1.0         -1.0  \n",
       "2            -1.0          -1.0          1.0  "
      ]
     },
     "execution_count": 10,
     "metadata": {},
     "output_type": "execute_result"
    }
   ],
   "source": [
    "power(res.iloc[:, 1:], 1, True, 2).head(2)"
   ]
  },
  {
   "cell_type": "code",
   "execution_count": 11,
   "id": "201d7d68-d7bd-415c-bfc4-cd2444d0be29",
   "metadata": {},
   "outputs": [],
   "source": [
    "x_df = pd.concat(\n",
    "    [\n",
    "        power(res.iloc[:, 1:], 1, True, 2),\n",
    "        power(res.iloc[:, 1:], 3, True, 2),\n",
    "    ],\n",
    "    axis=1\n",
    ")\n",
    "\n",
    "x_df = x_df.loc[:, ~x_df.columns.duplicated()]"
   ]
  },
  {
   "cell_type": "code",
   "execution_count": 12,
   "id": "2e39d03b-3bae-4ac9-bd2d-f3159310ea96",
   "metadata": {},
   "outputs": [
    {
     "data": {
      "text/html": [
       "<div>\n",
       "<style scoped>\n",
       "    .dataframe tbody tr th:only-of-type {\n",
       "        vertical-align: middle;\n",
       "    }\n",
       "\n",
       "    .dataframe tbody tr th {\n",
       "        vertical-align: top;\n",
       "    }\n",
       "\n",
       "    .dataframe thead th {\n",
       "        text-align: right;\n",
       "    }\n",
       "</style>\n",
       "<table border=\"1\" class=\"dataframe\">\n",
       "  <thead>\n",
       "    <tr style=\"text-align: right;\">\n",
       "      <th></th>\n",
       "      <th>(size-1.99)</th>\n",
       "      <th>(size-1.99)*(size-1.99)</th>\n",
       "      <th>(size-1.99)*(size-1.99)*(size-1.99)</th>\n",
       "    </tr>\n",
       "  </thead>\n",
       "  <tbody>\n",
       "    <tr>\n",
       "      <th>0</th>\n",
       "      <td>-0.994</td>\n",
       "      <td>0.988036</td>\n",
       "      <td>-9.821078e-01</td>\n",
       "    </tr>\n",
       "    <tr>\n",
       "      <th>1</th>\n",
       "      <td>-0.494</td>\n",
       "      <td>0.244036</td>\n",
       "      <td>-1.205538e-01</td>\n",
       "    </tr>\n",
       "    <tr>\n",
       "      <th>2</th>\n",
       "      <td>0.006</td>\n",
       "      <td>0.000036</td>\n",
       "      <td>2.160000e-07</td>\n",
       "    </tr>\n",
       "    <tr>\n",
       "      <th>3</th>\n",
       "      <td>0.506</td>\n",
       "      <td>0.256036</td>\n",
       "      <td>1.295542e-01</td>\n",
       "    </tr>\n",
       "    <tr>\n",
       "      <th>4</th>\n",
       "      <td>0.976</td>\n",
       "      <td>0.952576</td>\n",
       "      <td>9.297142e-01</td>\n",
       "    </tr>\n",
       "  </tbody>\n",
       "</table>\n",
       "</div>"
      ],
      "text/plain": [
       "   (size-1.99)  (size-1.99)*(size-1.99)  (size-1.99)*(size-1.99)*(size-1.99)\n",
       "0       -0.994                 0.988036                        -9.821078e-01\n",
       "1       -0.494                 0.244036                        -1.205538e-01\n",
       "2        0.006                 0.000036                         2.160000e-07\n",
       "3        0.506                 0.256036                         1.295542e-01\n",
       "4        0.976                 0.952576                         9.297142e-01"
      ]
     },
     "execution_count": 12,
     "metadata": {},
     "output_type": "execute_result"
    }
   ],
   "source": [
    "x_df.head()"
   ]
  },
  {
   "cell_type": "code",
   "execution_count": 13,
   "id": "adbf63a4-f888-4312-83d9-8abbf32e2039",
   "metadata": {},
   "outputs": [],
   "source": [
    "df_sep = feat_selector(x_df)"
   ]
  },
  {
   "cell_type": "code",
   "execution_count": 14,
   "id": "133b3567-4852-428a-84b1-3f32d4fda0d6",
   "metadata": {},
   "outputs": [],
   "source": [
    "y_df = res.time"
   ]
  },
  {
   "cell_type": "code",
   "execution_count": 15,
   "id": "2c8515b8-d471-4c1a-802a-c99126d17e6d",
   "metadata": {},
   "outputs": [],
   "source": [
    "l_x = [sm.add_constant(x) for x in df_sep]\n",
    "\n",
    "l_model = [sm.OLS(y_df, x) for x in l_x]\n",
    "l_result = [model.fit() for model in l_model]\n",
    "l_aic = [result.aic for result in l_result]"
   ]
  },
  {
   "cell_type": "code",
   "execution_count": 18,
   "id": "7cfd48f1-3f28-42ea-9ec7-2ebd97ea5bf9",
   "metadata": {},
   "outputs": [
    {
     "data": {
      "image/png": "[encoded data removed]",
      "text/plain": [
       "<Figure size 288x288 with 1 Axes>"
      ]
     },
     "metadata": {
      "needs_background": "light"
     },
     "output_type": "display_data"
    }
   ],
   "source": [
    "fig, ax = plt.subplots(figsize=(4, 4))\n",
    "\n",
    "ax.plot(\n",
    "    np.arange(len(l_aic)),\n",
    "    l_aic, label=\"aic of models\", c=\"k\", marker=\"x\"\n",
    ")\n",
    "ax.plot(\n",
    "    np.arange(len(l_aic)),\n",
    "    np.array(l_aic).min() * np.ones(len(l_aic)), linestyle=\"--\",\n",
    "    c=\"r\", label=f\"minimal AIC ({np.array(l_aic).min().round(2)})\"\n",
    ")\n",
    "\n",
    "ax.scatter(\n",
    "    l_aic.index(min(l_aic)), min(l_aic),\n",
    "    c=\"r\", marker=\"s\", edgecolor=\"k\", zorder=3, alpha=0.5,\n",
    "    label=\"optimal model\"\n",
    ")\n",
    "\n",
    "ax.set(ylabel=\"aic\", xlabel=\"index of models\")\n",
    "\n",
    "ax.legend(bbox_to_anchor=(1.05, 0.7));\n",
    "\n",
    "if conf.savefile:\n",
    "    plt.savefig(f\"{conf.dirctory}/aic.png\", **conf.kwarg_savefig)"
   ]
  },
  {
   "cell_type": "code",
   "execution_count": 19,
   "id": "b1ea5ce1-4d2b-44af-b91f-bab4ffc645e1",
   "metadata": {},
   "outputs": [
    {
     "data": {
      "text/html": [
       "<table class=\"simpletable\">\n",
       "<caption>OLS Regression Results</caption>\n",
       "<tr>\n",
       "  <th>Dep. Variable:</th>          <td>time</td>       <th>  R-squared:         </th> <td>   0.339</td>\n",
       "</tr>\n",
       "<tr>\n",
       "  <th>Model:</th>                   <td>OLS</td>       <th>  Adj. R-squared:    </th> <td>   0.279</td>\n",
       "</tr>\n",
       "<tr>\n",
       "  <th>Method:</th>             <td>Least Squares</td>  <th>  F-statistic:       </th> <td>   5.635</td>\n",
       "</tr>\n",
       "<tr>\n",
       "  <th>Date:</th>             <td>Mon, 18 Oct 2021</td> <th>  Prob (F-statistic):</th>  <td>0.0106</td> \n",
       "</tr>\n",
       "<tr>\n",
       "  <th>Time:</th>                 <td>18:15:56</td>     <th>  Log-Likelihood:    </th> <td> -25.421</td>\n",
       "</tr>\n",
       "<tr>\n",
       "  <th>No. Observations:</th>      <td>    25</td>      <th>  AIC:               </th> <td>   56.84</td>\n",
       "</tr>\n",
       "<tr>\n",
       "  <th>Df Residuals:</th>          <td>    22</td>      <th>  BIC:               </th> <td>   60.50</td>\n",
       "</tr>\n",
       "<tr>\n",
       "  <th>Df Model:</th>              <td>     2</td>      <th>                     </th>     <td> </td>   \n",
       "</tr>\n",
       "<tr>\n",
       "  <th>Covariance Type:</th>      <td>nonrobust</td>    <th>                     </th>     <td> </td>   \n",
       "</tr>\n",
       "</table>\n",
       "<table class=\"simpletable\">\n",
       "<tr>\n",
       "             <td></td>                <th>coef</th>     <th>std err</th>      <th>t</th>      <th>P>|t|</th>  <th>[0.025</th>    <th>0.975]</th>  \n",
       "</tr>\n",
       "<tr>\n",
       "  <th>const</th>                   <td>    6.2709</td> <td>    0.224</td> <td>   28.040</td> <td> 0.000</td> <td>    5.807</td> <td>    6.735</td>\n",
       "</tr>\n",
       "<tr>\n",
       "  <th>(size-1.99)</th>             <td>    0.3965</td> <td>    0.204</td> <td>    1.942</td> <td> 0.065</td> <td>   -0.027</td> <td>    0.820</td>\n",
       "</tr>\n",
       "<tr>\n",
       "  <th>(size-1.99)*(size-1.99)</th> <td>   -0.9450</td> <td>    0.353</td> <td>   -2.678</td> <td> 0.014</td> <td>   -1.677</td> <td>   -0.213</td>\n",
       "</tr>\n",
       "</table>\n",
       "<table class=\"simpletable\">\n",
       "<tr>\n",
       "  <th>Omnibus:</th>       <td> 5.001</td> <th>  Durbin-Watson:     </th> <td>   1.759</td>\n",
       "</tr>\n",
       "<tr>\n",
       "  <th>Prob(Omnibus):</th> <td> 0.082</td> <th>  Jarque-Bera (JB):  </th> <td>   3.442</td>\n",
       "</tr>\n",
       "<tr>\n",
       "  <th>Skew:</th>          <td> 0.478</td> <th>  Prob(JB):          </th> <td>   0.179</td>\n",
       "</tr>\n",
       "<tr>\n",
       "  <th>Kurtosis:</th>      <td> 4.546</td> <th>  Cond. No.          </th> <td>    3.15</td>\n",
       "</tr>\n",
       "</table><br/><br/>Notes:<br/>[1] Standard Errors assume that the covariance matrix of the errors is correctly specified."
      ],
      "text/plain": [
       "<class 'statsmodels.iolib.summary.Summary'>\n",
       "\"\"\"\n",
       "                            OLS Regression Results                            \n",
       "==============================================================================\n",
       "Dep. Variable:                   time   R-squared:                       0.339\n",
       "Model:                            OLS   Adj. R-squared:                  0.279\n",
       "Method:                 Least Squares   F-statistic:                     5.635\n",
       "Date:                Mon, 18 Oct 2021   Prob (F-statistic):             0.0106\n",
       "Time:                        18:15:56   Log-Likelihood:                -25.421\n",
       "No. Observations:                  25   AIC:                             56.84\n",
       "Df Residuals:                      22   BIC:                             60.50\n",
       "Df Model:                           2                                         \n",
       "Covariance Type:            nonrobust                                         \n",
       "===========================================================================================\n",
       "                              coef    std err          t      P>|t|      [0.025      0.975]\n",
       "-------------------------------------------------------------------------------------------\n",
       "const                       6.2709      0.224     28.040      0.000       5.807       6.735\n",
       "(size-1.99)                 0.3965      0.204      1.942      0.065      -0.027       0.820\n",
       "(size-1.99)*(size-1.99)    -0.9450      0.353     -2.678      0.014      -1.677      -0.213\n",
       "==============================================================================\n",
       "Omnibus:                        5.001   Durbin-Watson:                   1.759\n",
       "Prob(Omnibus):                  0.082   Jarque-Bera (JB):                3.442\n",
       "Skew:                           0.478   Prob(JB):                        0.179\n",
       "Kurtosis:                       4.546   Cond. No.                         3.15\n",
       "==============================================================================\n",
       "\n",
       "Notes:\n",
       "[1] Standard Errors assume that the covariance matrix of the errors is correctly specified.\n",
       "\"\"\""
      ]
     },
     "execution_count": 19,
     "metadata": {},
     "output_type": "execute_result"
    }
   ],
   "source": [
    "summary = l_result[l_aic.index(min(l_aic))].summary()\n",
    "\n",
    "summary"
   ]
  },
  {
   "cell_type": "code",
   "execution_count": 20,
   "id": "b569569a-0173-4a48-8715-8c4612dfa8b7",
   "metadata": {},
   "outputs": [],
   "source": [
    "if conf.savefile:\n",
    "    with open(f\"{conf.dirctory}/README.md\", \"w\") as f:\n",
    "        f.write(\n",
    "            f\"\"\"\n",
    "            feature set:\n",
    "            {x_df.columns}\n",
    "            \n",
    "            optimal model:\n",
    "            {summary}\n",
    "            \n",
    "            \"\"\"\n",
    "        )"
   ]
  }
 ],
 "metadata": {
  "kernelspec": {
   "display_name": "Python 3",
   "language": "python",
   "name": "python3"
  },
  "language_info": {
   "codemirror_mode": {
    "name": "ipython",
    "version": 3
   },
   "file_extension": ".py",
   "mimetype": "text/x-python",
   "name": "python",
   "nbconvert_exporter": "python",
   "pygments_lexer": "ipython3",
   "version": "3.8.8"
  }
 },
 "nbformat": 4,
 "nbformat_minor": 5
}
