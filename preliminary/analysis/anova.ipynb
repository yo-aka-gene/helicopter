{
 "cells": [
  {
   "cell_type": "markdown",
   "id": "38fb7411-b21c-43f0-8945-91d2eb066428",
   "metadata": {},
   "source": [
    "# 一元配置分散分析\n",
    "[やること」\n",
    "- QQ plot\n",
    "- One way anova\n",
    "- 多重比較\n",
    "- 棒グラフの作成と95%ciの計算"
   ]
  },
  {
   "cell_type": "code",
   "execution_count": 1,
   "id": "186c674f-8659-4e99-ae08-7e55e29637fe",
   "metadata": {},
   "outputs": [],
   "source": [
    "import os\n",
    "from typing import Dict, NamedTuple, Tuple, Union\n",
    "from itertools import combinations\n",
    "\n",
    "import numpy as np\n",
    "import pandas as pd\n",
    "import matplotlib.pyplot as plt\n",
    "import scipy.stats as st\n",
    "import seaborn as sns\n",
    "import statsmodels.api as sm\n",
    "\n",
    "from statsmodels.stats.multicomp import pairwise_tukeyhsd"
   ]
  },
  {
   "cell_type": "code",
   "execution_count": 2,
   "id": "10871dec-77e5-447c-8dcb-9811ece18536",
   "metadata": {},
   "outputs": [],
   "source": [
    "class Config(NamedTuple):\n",
    "    data: str = \"../preliminary.csv\"\n",
    "    dirctory: str = \"../images/anova\"\n",
    "    savefile: bool = False\n",
    "    kwarg_savefig: Dict[str, Union[str, int, float]] = {\n",
    "        \"facecolor\": \"white\",\n",
    "        \"dpi\": 300,\n",
    "        \"bbox_inches\": \"tight\",\n",
    "        \"pad_inches\": 0.05\n",
    "    }"
   ]
  },
  {
   "cell_type": "code",
   "execution_count": 3,
   "id": "c06e4de5-7121-43b5-8799-67e2ad2629e8",
   "metadata": {},
   "outputs": [],
   "source": [
    "conf = Config(savefile=True)"
   ]
  },
  {
   "cell_type": "code",
   "execution_count": 4,
   "id": "ef0c34ca-95a6-4b0c-97a3-afd6b985d6ac",
   "metadata": {},
   "outputs": [],
   "source": [
    "os.makedirs(conf.dirctory, exist_ok=True)"
   ]
  },
  {
   "cell_type": "code",
   "execution_count": 5,
   "id": "a856e417-cad1-4013-9474-49557b1ad898",
   "metadata": {},
   "outputs": [
    {
     "data": {
      "text/html": [
       "<div>\n",
       "<style scoped>\n",
       "    .dataframe tbody tr th:only-of-type {\n",
       "        vertical-align: middle;\n",
       "    }\n",
       "\n",
       "    .dataframe tbody tr th {\n",
       "        vertical-align: top;\n",
       "    }\n",
       "\n",
       "    .dataframe thead th {\n",
       "        text-align: right;\n",
       "    }\n",
       "</style>\n",
       "<table border=\"1\" class=\"dataframe\">\n",
       "  <thead>\n",
       "    <tr style=\"text-align: right;\">\n",
       "      <th></th>\n",
       "      <th>1.0</th>\n",
       "      <th>1.5</th>\n",
       "      <th>2.0</th>\n",
       "      <th>2.5</th>\n",
       "      <th>2.97</th>\n",
       "    </tr>\n",
       "    <tr>\n",
       "      <th>Num of trial</th>\n",
       "      <th></th>\n",
       "      <th></th>\n",
       "      <th></th>\n",
       "      <th></th>\n",
       "      <th></th>\n",
       "    </tr>\n",
       "  </thead>\n",
       "  <tbody>\n",
       "    <tr>\n",
       "      <th>0</th>\n",
       "      <td>4.94</td>\n",
       "      <td>5.68</td>\n",
       "      <td>5.13</td>\n",
       "      <td>6.55</td>\n",
       "      <td>5.36</td>\n",
       "    </tr>\n",
       "    <tr>\n",
       "      <th>1</th>\n",
       "      <td>5.22</td>\n",
       "      <td>5.67</td>\n",
       "      <td>5.81</td>\n",
       "      <td>4.81</td>\n",
       "      <td>5.34</td>\n",
       "    </tr>\n",
       "    <tr>\n",
       "      <th>2</th>\n",
       "      <td>4.14</td>\n",
       "      <td>5.72</td>\n",
       "      <td>6.83</td>\n",
       "      <td>7.10</td>\n",
       "      <td>6.10</td>\n",
       "    </tr>\n",
       "    <tr>\n",
       "      <th>3</th>\n",
       "      <td>5.46</td>\n",
       "      <td>6.04</td>\n",
       "      <td>5.59</td>\n",
       "      <td>6.73</td>\n",
       "      <td>5.62</td>\n",
       "    </tr>\n",
       "    <tr>\n",
       "      <th>4</th>\n",
       "      <td>5.18</td>\n",
       "      <td>6.23</td>\n",
       "      <td>6.28</td>\n",
       "      <td>8.21</td>\n",
       "      <td>5.50</td>\n",
       "    </tr>\n",
       "  </tbody>\n",
       "</table>\n",
       "</div>"
      ],
      "text/plain": [
       "               1.0   1.5   2.0   2.5  2.97\n",
       "Num of trial                              \n",
       "0             4.94  5.68  5.13  6.55  5.36\n",
       "1             5.22  5.67  5.81  4.81  5.34\n",
       "2             4.14  5.72  6.83  7.10  6.10\n",
       "3             5.46  6.04  5.59  6.73  5.62\n",
       "4             5.18  6.23  6.28  8.21  5.50"
      ]
     },
     "execution_count": 5,
     "metadata": {},
     "output_type": "execute_result"
    }
   ],
   "source": [
    "# load result data\n",
    "\n",
    "res = pd.read_csv(conf.data, index_col=0)\n",
    "res"
   ]
  },
  {
   "cell_type": "markdown",
   "id": "ea368ecb-c891-470e-b201-924de0128476",
   "metadata": {},
   "source": [
    "---\n",
    "## QQ plot"
   ]
  },
  {
   "cell_type": "code",
   "execution_count": 6,
   "id": "04b5df81-3f1c-4d92-90c0-5c7d55fb301e",
   "metadata": {},
   "outputs": [
    {
     "name": "stderr",
     "output_type": "stream",
     "text": [
      "/opt/conda/lib/python3.8/site-packages/statsmodels/graphics/gofplots.py:993: UserWarning: marker is redundantly defined by the 'marker' keyword argument and the fmt string \"bo\" (-> marker='o'). The keyword argument will take precedence.\n",
      "  ax.plot(x, y, fmt, **plot_style)\n",
      "/opt/conda/lib/python3.8/site-packages/statsmodels/graphics/gofplots.py:993: UserWarning: marker is redundantly defined by the 'marker' keyword argument and the fmt string \"bo\" (-> marker='o'). The keyword argument will take precedence.\n",
      "  ax.plot(x, y, fmt, **plot_style)\n",
      "/opt/conda/lib/python3.8/site-packages/statsmodels/graphics/gofplots.py:993: UserWarning: marker is redundantly defined by the 'marker' keyword argument and the fmt string \"bo\" (-> marker='o'). The keyword argument will take precedence.\n",
      "  ax.plot(x, y, fmt, **plot_style)\n",
      "/opt/conda/lib/python3.8/site-packages/statsmodels/graphics/gofplots.py:993: UserWarning: marker is redundantly defined by the 'marker' keyword argument and the fmt string \"bo\" (-> marker='o'). The keyword argument will take precedence.\n",
      "  ax.plot(x, y, fmt, **plot_style)\n",
      "/opt/conda/lib/python3.8/site-packages/statsmodels/graphics/gofplots.py:993: UserWarning: marker is redundantly defined by the 'marker' keyword argument and the fmt string \"bo\" (-> marker='o'). The keyword argument will take precedence.\n",
      "  ax.plot(x, y, fmt, **plot_style)\n"
     ]
    },
    {
     "data": {
      "image/png": "[encoded data removed]",
      "text/plain": [
       "<Figure size 864x576 with 6 Axes>"
      ]
     },
     "metadata": {
      "needs_background": "light"
     },
     "output_type": "display_data"
    }
   ],
   "source": [
    "fig, ax = plt.subplots(2, 3, figsize=(12, 8))\n",
    "\n",
    "for i in range(res.shape[1]):\n",
    "    sm.qqplot(res.iloc[:,i], st.t, distargs=(4,), fit=True, line=\"s\", ax=ax[i//3, i%3])"
   ]
  },
  {
   "cell_type": "markdown",
   "id": "c96eaca0-05dd-4aeb-aca6-4efd1995f67a",
   "metadata": {},
   "source": [
    "- 正規分布してなさそうな気もするけど、目を瞑っておく"
   ]
  },
  {
   "cell_type": "markdown",
   "id": "a2bf3a36-124d-4c5f-b385-0047b780f899",
   "metadata": {},
   "source": [
    "---\n",
    "## One way anova"
   ]
  },
  {
   "cell_type": "code",
   "execution_count": 7,
   "id": "52d79372-83cc-4250-bd9c-b90a808e1343",
   "metadata": {},
   "outputs": [],
   "source": [
    "anova_res = {\n",
    "    \"size\": st.f_oneway(*[res.iloc[:, i] for i in range(res.shape[1])]),\n",
    "    \"batch\": st.f_oneway(*[res.iloc[i, :] for i in range(res.shape[0])])\n",
    "}"
   ]
  },
  {
   "cell_type": "markdown",
   "id": "fe4f0077-ba57-4308-a42c-92c4031f9e5c",
   "metadata": {},
   "source": [
    "---\n",
    "## Pairwise Turkey"
   ]
  },
  {
   "cell_type": "code",
   "execution_count": 8,
   "id": "3da8ed96-b731-4eb4-a14a-8e2f2cba7680",
   "metadata": {},
   "outputs": [],
   "source": [
    "# reshape res matrix\n",
    "\n",
    "batch = pd.Series([i // 5 + 1 for i in np.arange(25)])\n",
    "size = pd.Series([1, 1.5, 2, 2.5, 2.97]*5)\n",
    "\n",
    "df = pd.DataFrame(res.values.reshape(-1, 1), columns=[\"time\"]).assign(batch=batch, size=size)"
   ]
  },
  {
   "cell_type": "code",
   "execution_count": 9,
   "id": "e7778838-310f-46f7-8a42-0c560d787fbc",
   "metadata": {},
   "outputs": [
    {
     "data": {
      "text/html": [
       "<div>\n",
       "<style scoped>\n",
       "    .dataframe tbody tr th:only-of-type {\n",
       "        vertical-align: middle;\n",
       "    }\n",
       "\n",
       "    .dataframe tbody tr th {\n",
       "        vertical-align: top;\n",
       "    }\n",
       "\n",
       "    .dataframe thead th {\n",
       "        text-align: right;\n",
       "    }\n",
       "</style>\n",
       "<table border=\"1\" class=\"dataframe\">\n",
       "  <thead>\n",
       "    <tr style=\"text-align: right;\">\n",
       "      <th></th>\n",
       "      <th>time</th>\n",
       "      <th>batch</th>\n",
       "      <th>size</th>\n",
       "    </tr>\n",
       "  </thead>\n",
       "  <tbody>\n",
       "    <tr>\n",
       "      <th>0</th>\n",
       "      <td>4.94</td>\n",
       "      <td>1</td>\n",
       "      <td>1.00</td>\n",
       "    </tr>\n",
       "    <tr>\n",
       "      <th>1</th>\n",
       "      <td>5.68</td>\n",
       "      <td>1</td>\n",
       "      <td>1.50</td>\n",
       "    </tr>\n",
       "    <tr>\n",
       "      <th>2</th>\n",
       "      <td>5.13</td>\n",
       "      <td>1</td>\n",
       "      <td>2.00</td>\n",
       "    </tr>\n",
       "    <tr>\n",
       "      <th>3</th>\n",
       "      <td>6.55</td>\n",
       "      <td>1</td>\n",
       "      <td>2.50</td>\n",
       "    </tr>\n",
       "    <tr>\n",
       "      <th>4</th>\n",
       "      <td>5.36</td>\n",
       "      <td>1</td>\n",
       "      <td>2.97</td>\n",
       "    </tr>\n",
       "    <tr>\n",
       "      <th>5</th>\n",
       "      <td>5.22</td>\n",
       "      <td>2</td>\n",
       "      <td>1.00</td>\n",
       "    </tr>\n",
       "  </tbody>\n",
       "</table>\n",
       "</div>"
      ],
      "text/plain": [
       "   time  batch  size\n",
       "0  4.94      1  1.00\n",
       "1  5.68      1  1.50\n",
       "2  5.13      1  2.00\n",
       "3  6.55      1  2.50\n",
       "4  5.36      1  2.97\n",
       "5  5.22      2  1.00"
      ]
     },
     "execution_count": 9,
     "metadata": {},
     "output_type": "execute_result"
    }
   ],
   "source": [
    "df.head(6)"
   ]
  },
  {
   "cell_type": "code",
   "execution_count": 10,
   "id": "2965bc4b-d620-4e03-b252-f343e9c0c15b",
   "metadata": {},
   "outputs": [],
   "source": [
    "def turkey_asterisk(\n",
    "    endog: pd.core.series.Series,\n",
    "    group: pd.core.series.Series,\n",
    "    ax,\n",
    "    alpha: float = 0.05\n",
    "):\n",
    "    marker = lambda p: \"$*$\" if p >= 0.01 \\\n",
    "    else \"$**$\" if p >= 0.001 else \"$***$\"\n",
    "    label = lambda p: \"$p<0.05$\" if p >= 0.01 \\\n",
    "    else \"$p<0.01$\" if p >= 0.001 else \"$p<0.001$\"\n",
    "    \n",
    "    res = pairwise_tukeyhsd(endog, group, alpha)\n",
    "    if True in res.reject:\n",
    "        idx = [i for i, v in enumerate(res.reject.tolist()) if v == True]\n",
    "        \n",
    "        for iteration, index in enumerate(idx):\n",
    "            pair = list(combinations(group.unique(), 2))[index]\n",
    "            group1, group2 = [\n",
    "                group.unique().tolist().index(v) for v in pair\n",
    "            ]\n",
    "            ax.plot(\n",
    "                np.linspace(group1, group2, 2),\n",
    "                (np.ceil(endog.max()) + iteration) * np.ones(2),\n",
    "                c=\"k\"\n",
    "            )\n",
    "            ax.scatter(\n",
    "                np.mean([group1, group2]),\n",
    "                np.ceil(endog.max()) + iteration + 0.5,\n",
    "                marker=marker(res.pvalues[index]), s=100,\n",
    "                label=label(res.pvalues[index]) + \"\\n$(Turkey's$ $HSD)$\",\n",
    "                c=\"k\"\n",
    "            ) "
   ]
  },
  {
   "cell_type": "markdown",
   "id": "84e58487-b36e-4fff-ba40-70ae4ecf0897",
   "metadata": {},
   "source": [
    "---\n",
    "## Barplot & 95%ci"
   ]
  },
  {
   "cell_type": "code",
   "execution_count": 11,
   "id": "a78d53d9-17bf-4981-8f63-99ec42e55f34",
   "metadata": {},
   "outputs": [
    {
     "data": {
      "image/png": "[encoded data removed]",
      "text/plain": [
       "<Figure size 576x288 with 2 Axes>"
      ]
     },
     "metadata": {
      "needs_background": "light"
     },
     "output_type": "display_data"
    }
   ],
   "source": [
    "fig, ax = plt.subplots(1, 2, figsize=(8, 4))\n",
    "\n",
    "label = \"$mean \\pm$ 95\" + \"%\" + \"$ci$\"\n",
    "\n",
    "for i, value in enumerate([\"size\",  \"batch\"]):\n",
    "    sns.barplot(\n",
    "        data=df, x=value, y=\"time\",\n",
    "        color=\"gray\", ci=95, label=label,\n",
    "        capsize=0.1, ax=ax[i], alpha=0.3,\n",
    "        edgecolor=\"k\"\n",
    "    )\n",
    "    \n",
    "    sns.scatterplot(\n",
    "        data=df,\n",
    "        x=[df.index%5 + 0.2, df.index//5 + 0.2][i],\n",
    "        y=\"time\", ax=ax[i], marker=\"v\", color=\"r\",\n",
    "        **{\"zorder\":3, \"s\":30}, alpha=1, label=\"result ($n=5$)\"\n",
    "    )\n",
    "    \n",
    "    turkey_asterisk(df.time, df.loc[:, value], ax[i])\n",
    "    \n",
    "    title = f\"${value}$ $vs$ $time$\\n$f:\" \\\n",
    "    + f\"{anova_res[value][0].round(2)}\" + \\\n",
    "    f\", p: {anova_res[value][1].round(2)}$ $(ANOVA)$\"\n",
    "\n",
    "    ax[i].legend(fontsize=\"small\")\n",
    "    ax[i].set_ylim([0, 15])\n",
    "    ax[i].set_title(title)\n",
    "\n",
    "if conf.savefile:\n",
    "    plt.savefig(f\"{conf.dirctory}/bar.png\", **conf.kwarg_savefig)"
   ]
  },
  {
   "cell_type": "code",
   "execution_count": null,
   "id": "41096645-f00d-4e85-8b80-010406f1b090",
   "metadata": {},
   "outputs": [],
   "source": []
  }
 ],
 "metadata": {
  "kernelspec": {
   "display_name": "Python 3",
   "language": "python",
   "name": "python3"
  },
  "language_info": {
   "codemirror_mode": {
    "name": "ipython",
    "version": 3
   },
   "file_extension": ".py",
   "mimetype": "text/x-python",
   "name": "python",
   "nbconvert_exporter": "python",
   "pygments_lexer": "ipython3",
   "version": "3.8.8"
  }
 },
 "nbformat": 4,
 "nbformat_minor": 5
}
