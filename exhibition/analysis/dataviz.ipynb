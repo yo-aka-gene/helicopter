{
 "cells": [
  {
   "cell_type": "code",
   "execution_count": 1,
   "id": "fb096969-e714-4993-9511-48837c5caac5",
   "metadata": {},
   "outputs": [],
   "source": [
    "import os\n",
    "from typing import Dict, NamedTuple, Union, List, Tuple\n",
    "from itertools import combinations\n",
    "\n",
    "import numpy as np\n",
    "import pandas as pd\n",
    "import matplotlib.pyplot as plt\n",
    "import seaborn as sns"
   ]
  },
  {
   "cell_type": "code",
   "execution_count": 2,
   "id": "cbda307b-627e-446b-9517-33471d039c4b",
   "metadata": {},
   "outputs": [],
   "source": [
    "class Config(NamedTuple):\n",
    "    data: str = \"../paper_result.csv\"\n",
    "    dirctory: str = \"../images/dataviz\"\n",
    "    savefile: bool = False\n",
    "    kwarg_savefig: Dict[str, Union[str, int, float]] = {\n",
    "        \"facecolor\": \"white\",\n",
    "        \"dpi\": 300,\n",
    "        \"bbox_inches\": \"tight\",\n",
    "        \"pad_inches\": 0.05\n",
    "    }"
   ]
  },
  {
   "cell_type": "code",
   "execution_count": 3,
   "id": "4187d40f-9844-4360-a253-9e4ed25badfe",
   "metadata": {},
   "outputs": [],
   "source": [
    "conf = Config(savefile=True)"
   ]
  },
  {
   "cell_type": "code",
   "execution_count": 4,
   "id": "dc4022c6-d56d-4ac2-8955-06fa67ecee23",
   "metadata": {},
   "outputs": [],
   "source": [
    "os.makedirs(conf.dirctory, exist_ok=True)"
   ]
  },
  {
   "cell_type": "code",
   "execution_count": 5,
   "id": "e17ff1b7-8338-44b9-9831-c5a62d750172",
   "metadata": {},
   "outputs": [
    {
     "data": {
      "text/html": [
       "<div>\n",
       "<style scoped>\n",
       "    .dataframe tbody tr th:only-of-type {\n",
       "        vertical-align: middle;\n",
       "    }\n",
       "\n",
       "    .dataframe tbody tr th {\n",
       "        vertical-align: top;\n",
       "    }\n",
       "\n",
       "    .dataframe thead th {\n",
       "        text-align: right;\n",
       "    }\n",
       "</style>\n",
       "<table border=\"1\" class=\"dataframe\">\n",
       "  <thead>\n",
       "    <tr style=\"text-align: right;\">\n",
       "      <th></th>\n",
       "      <th>time</th>\n",
       "    </tr>\n",
       "  </thead>\n",
       "  <tbody>\n",
       "    <tr>\n",
       "      <th>6-14-kokyu-washi</th>\n",
       "      <td>5.75</td>\n",
       "    </tr>\n",
       "    <tr>\n",
       "      <th>6-6-kokyu-washi</th>\n",
       "      <td>3.37</td>\n",
       "    </tr>\n",
       "    <tr>\n",
       "      <th>free-craft</th>\n",
       "      <td>8.94</td>\n",
       "    </tr>\n",
       "    <tr>\n",
       "      <th>report</th>\n",
       "      <td>10.03</td>\n",
       "    </tr>\n",
       "    <tr>\n",
       "      <th>water-proof</th>\n",
       "      <td>2.91</td>\n",
       "    </tr>\n",
       "    <tr>\n",
       "      <th>kosaku-yoshi</th>\n",
       "      <td>1.87</td>\n",
       "    </tr>\n",
       "    <tr>\n",
       "      <th>tracing</th>\n",
       "      <td>4.57</td>\n",
       "    </tr>\n",
       "    <tr>\n",
       "      <th>washi</th>\n",
       "      <td>11.03</td>\n",
       "    </tr>\n",
       "    <tr>\n",
       "      <th>tissue-like-x5</th>\n",
       "      <td>3.88</td>\n",
       "    </tr>\n",
       "    <tr>\n",
       "      <th>tissue-like-x1</th>\n",
       "      <td>6.19</td>\n",
       "    </tr>\n",
       "    <tr>\n",
       "      <th>tissue_1</th>\n",
       "      <td>6.53</td>\n",
       "    </tr>\n",
       "    <tr>\n",
       "      <th>tissue_2</th>\n",
       "      <td>10.63</td>\n",
       "    </tr>\n",
       "  </tbody>\n",
       "</table>\n",
       "</div>"
      ],
      "text/plain": [
       "                   time\n",
       "6-14-kokyu-washi   5.75\n",
       "6-6-kokyu-washi    3.37\n",
       "free-craft         8.94\n",
       "report            10.03\n",
       "water-proof        2.91\n",
       "kosaku-yoshi       1.87\n",
       "tracing            4.57\n",
       "washi             11.03\n",
       "tissue-like-x5     3.88\n",
       "tissue-like-x1     6.19\n",
       "tissue_1           6.53\n",
       "tissue_2          10.63"
      ]
     },
     "execution_count": 5,
     "metadata": {},
     "output_type": "execute_result"
    }
   ],
   "source": [
    "# load result data\n",
    "\n",
    "data = pd.read_csv(conf.data, index_col=0)\n",
    "\n",
    "data"
   ]
  },
  {
   "cell_type": "code",
   "execution_count": 13,
   "id": "867461e3-bcfe-470a-862e-daf12b6d0e12",
   "metadata": {},
   "outputs": [],
   "source": [
    "data.index = [\n",
    "    \"Luxuary Jap.\\n(width=14)\", \"Luxuary Jap.\", \"Free Craft\",\n",
    "    \"Report Pad\", \"Waterproof\", \"Handicraft\\nBoard\",\n",
    "    \"Tracing\", \"Jap.\", \"Calligraphy\\n(5-layered)\",\n",
    "    \"Calligraphy\", \"Tissue #1\\n(unshaped)\", \"Tissue #2\\n(unshaped)\"\n",
    "]"
   ]
  },
  {
   "cell_type": "code",
   "execution_count": 15,
   "id": "357e2a32-a170-4b42-a4f0-8b94c1513bdf",
   "metadata": {},
   "outputs": [
    {
     "data": {
      "image/png": "[encoded data removed]",
      "text/plain": [
       "<Figure size 576x324 with 1 Axes>"
      ]
     },
     "metadata": {
      "needs_background": "light"
     },
     "output_type": "display_data"
    }
   ],
   "source": [
    "fig, ax = plt.subplots(figsize=(8, 4.5))\n",
    "\n",
    "data.plot.bar(\n",
    "    xlabel=\"paper texture\", ylabel=\"$time [s]$\",\n",
    "    title=\"Results $(n=1)$\", color=\"gray\", edgecolor=\"k\",\n",
    "    alpha=0.5, ax=ax\n",
    ")\n",
    "\n",
    "ax.set_xticklabels(data.index, rotation=45)\n",
    "\n",
    "if conf.savefile:\n",
    "    plt.savefig(f\"{conf.dirctory}/barplot.png\", **conf.kwarg_savefig)"
   ]
  },
  {
   "cell_type": "code",
   "execution_count": null,
   "id": "9993e8ec-990b-474b-b59f-631668099172",
   "metadata": {},
   "outputs": [],
   "source": []
  }
 ],
 "metadata": {
  "kernelspec": {
   "display_name": "Python 3",
   "language": "python",
   "name": "python3"
  },
  "language_info": {
   "codemirror_mode": {
    "name": "ipython",
    "version": 3
   },
   "file_extension": ".py",
   "mimetype": "text/x-python",
   "name": "python",
   "nbconvert_exporter": "python",
   "pygments_lexer": "ipython3",
   "version": "3.8.8"
  }
 },
 "nbformat": 4,
 "nbformat_minor": 5
}
